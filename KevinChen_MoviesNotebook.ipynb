{
  "nbformat": 4,
  "nbformat_minor": 0,
  "metadata": {
    "colab": {
      "name": "KevinChen_MoviesNotebook.ipynb",
      "provenance": [],
      "collapsed_sections": [],
      "machine_shape": "hm",
      "authorship_tag": "ABX9TyNaeXwkO/gvD1n1Rc3inz71",
      "include_colab_link": true
    },
    "kernelspec": {
      "name": "python3",
      "display_name": "Python 3"
    }
  },
  "cells": [
    {
      "cell_type": "markdown",
      "metadata": {
        "id": "view-in-github",
        "colab_type": "text"
      },
      "source": [
        "<a href=\"https://colab.research.google.com/github/kevc528/MovieDatasetAnalysis/blob/master/KevinChen_MoviesNotebook.ipynb\" target=\"_parent\"><img src=\"https://colab.research.google.com/assets/colab-badge.svg\" alt=\"Open In Colab\"/></a>"
      ]
    },
    {
      "cell_type": "markdown",
      "metadata": {
        "id": "iXmDZQ1EuGeW",
        "colab_type": "text"
      },
      "source": [
        "# CIS545 Final Project: Analyzing Movie Data\n",
        "## Kevin Chen\n",
        "\n",
        "\n",
        "![alt text](https://cdn.digg.com/wp-content/uploads/2020/01/16124337/Screen-Shot-2020-01-16-at-11.42.56-AM.png)\n",
        "\n",
        "\n",
        "In this project I will be exploring The Movies Dataset, which is found on Kaggle at https://www.kaggle.com/rounakbanik/the-movies-dataset/data#credits.csv. In this project I will be exploring data on thousands of movies. Everyone likes movies, so why not learn more from the vast amount of data we have? Specifically, I will be exploring data about movies themselves, and also data about how viewers rate movies. After exploring the data, I will move in to the modeling portion of this project. The modeling will focus on a creating a simple movie recommendation system. Recommendation systems are widely used today and very important for so many companies, making them a very popular application of data science!"
      ]
    },
    {
      "cell_type": "markdown",
      "metadata": {
        "id": "fzH1vynNSYBo",
        "colab_type": "text"
      },
      "source": [
        "## Setup\n",
        "\n",
        "To set up the data, I relied a lot on Kaggle's API access. I created an API key and saved a downloadable json file into a folder in my drive named \"Kaggle\""
      ]
    },
    {
      "cell_type": "code",
      "metadata": {
        "id": "v-paY0ubWU93",
        "colab_type": "code",
        "outputId": "3e7db60e-ced3-4c9b-b2d7-13d828744c2b",
        "colab": {
          "base_uri": "https://localhost:8080/",
          "height": 911
        }
      },
      "source": [
        "# Need a folder in google drive called \"Kaggle\", containing \"kaggle.json\", a \n",
        "# file that is created after obtaining Kaggle API access\n",
        "from google.colab import drive\n",
        "drive.mount('/content/gdrive', force_remount=True)\n",
        "\n",
        "import os\n",
        "os.environ['KAGGLE_CONFIG_DIR'] = \"/content/gdrive/My Drive/Kaggle\"\n",
        "\n",
        "%cd /content/gdrive/My Drive/Kaggle\n",
        "\n",
        "!kaggle datasets download -d rounakbanik/the-movies-dataset"
      ],
      "execution_count": 73,
      "outputs": [
        {
          "output_type": "stream",
          "text": [
            "ERROR:root:Internal Python error in the inspect module.\n",
            "Below is the traceback from this internal error.\n",
            "\n"
          ],
          "name": "stderr"
        },
        {
          "output_type": "stream",
          "text": [
            "Mounted at /content/gdrive\n",
            "Traceback (most recent call last):\n",
            "  File \"/usr/local/lib/python3.6/dist-packages/IPython/core/interactiveshell.py\", line 2882, in run_code\n",
            "    exec(code_obj, self.user_global_ns, self.user_ns)\n",
            "  File \"<ipython-input-73-8b3d87852aca>\", line 7, in <module>\n",
            "    get_ipython().magic('cd /content/gdrive/My Drive/Kaggle')\n",
            "  File \"/usr/local/lib/python3.6/dist-packages/IPython/core/interactiveshell.py\", line 2160, in magic\n",
            "    return self.run_line_magic(magic_name, magic_arg_s)\n",
            "  File \"/usr/local/lib/python3.6/dist-packages/IPython/core/interactiveshell.py\", line 2081, in run_line_magic\n",
            "    result = fn(*args,**kwargs)\n",
            "  File \"<decorator-gen-91>\", line 2, in cd\n",
            "  File \"/usr/local/lib/python3.6/dist-packages/IPython/core/magic.py\", line 188, in <lambda>\n",
            "    call = lambda f, *a, **k: f(*a, **k)\n",
            "  File \"/usr/local/lib/python3.6/dist-packages/IPython/core/magics/osm.py\", line 288, in cd\n",
            "    oldcwd = py3compat.getcwd()\n",
            "OSError: [Errno 107] Transport endpoint is not connected\n",
            "\n",
            "During handling of the above exception, another exception occurred:\n",
            "\n",
            "Traceback (most recent call last):\n",
            "  File \"/usr/local/lib/python3.6/dist-packages/IPython/core/interactiveshell.py\", line 1823, in showtraceback\n",
            "    stb = value._render_traceback_()\n",
            "AttributeError: 'OSError' object has no attribute '_render_traceback_'\n",
            "\n",
            "During handling of the above exception, another exception occurred:\n",
            "\n",
            "Traceback (most recent call last):\n",
            "  File \"/usr/local/lib/python3.6/dist-packages/IPython/core/ultratb.py\", line 1132, in get_records\n",
            "    return _fixed_getinnerframes(etb, number_of_lines_of_context, tb_offset)\n",
            "  File \"/usr/local/lib/python3.6/dist-packages/IPython/core/ultratb.py\", line 313, in wrapped\n",
            "    return f(*args, **kwargs)\n",
            "  File \"/usr/local/lib/python3.6/dist-packages/IPython/core/ultratb.py\", line 358, in _fixed_getinnerframes\n",
            "    records = fix_frame_records_filenames(inspect.getinnerframes(etb, context))\n",
            "  File \"/usr/lib/python3.6/inspect.py\", line 1490, in getinnerframes\n",
            "    frameinfo = (tb.tb_frame,) + getframeinfo(tb, context)\n",
            "  File \"/usr/lib/python3.6/inspect.py\", line 1448, in getframeinfo\n",
            "    filename = getsourcefile(frame) or getfile(frame)\n",
            "  File \"/usr/lib/python3.6/inspect.py\", line 696, in getsourcefile\n",
            "    if getattr(getmodule(object, filename), '__loader__', None) is not None:\n",
            "  File \"/usr/lib/python3.6/inspect.py\", line 725, in getmodule\n",
            "    file = getabsfile(object, _filename)\n",
            "  File \"/usr/lib/python3.6/inspect.py\", line 709, in getabsfile\n",
            "    return os.path.normcase(os.path.abspath(_filename))\n",
            "  File \"/usr/lib/python3.6/posixpath.py\", line 383, in abspath\n",
            "    cwd = os.getcwd()\n",
            "OSError: [Errno 107] Transport endpoint is not connected\n"
          ],
          "name": "stdout"
        },
        {
          "output_type": "error",
          "ename": "OSError",
          "evalue": "ignored",
          "traceback": [
            "\u001b[0;31m---------------------------------------------------------------------------\u001b[0m"
          ]
        }
      ]
    },
    {
      "cell_type": "code",
      "metadata": {
        "id": "loygnee8WsSh",
        "colab_type": "code",
        "outputId": "ef870157-7c48-4f53-ac97-bb8be6442233",
        "colab": {
          "base_uri": "https://localhost:8080/",
          "height": 170
        }
      },
      "source": [
        "!unzip \\*.zip  && rm *.zip"
      ],
      "execution_count": 2,
      "outputs": [
        {
          "output_type": "stream",
          "text": [
            "Archive:  the-movies-dataset.zip\n",
            "replace credits.csv? [y]es, [n]o, [A]ll, [N]one, [r]ename: A\n",
            "  inflating: credits.csv             \n",
            "  inflating: keywords.csv            \n",
            "  inflating: links.csv               \n",
            "  inflating: links_small.csv         \n",
            "  inflating: movies_metadata.csv     \n",
            "  inflating: ratings.csv             \n",
            "  inflating: ratings_small.csv       \n"
          ],
          "name": "stdout"
        }
      ]
    },
    {
      "cell_type": "code",
      "metadata": {
        "id": "-nGdgLxtaRuk",
        "colab_type": "code",
        "outputId": "a8bc6217-44fb-4e86-eb63-471eeb47c4bb",
        "colab": {
          "base_uri": "https://localhost:8080/",
          "height": 272
        }
      },
      "source": [
        "!pip install pandasql"
      ],
      "execution_count": 3,
      "outputs": [
        {
          "output_type": "stream",
          "text": [
            "Collecting pandasql\n",
            "  Downloading https://files.pythonhosted.org/packages/6b/c4/ee4096ffa2eeeca0c749b26f0371bd26aa5c8b611c43de99a4f86d3de0a7/pandasql-0.7.3.tar.gz\n",
            "Requirement already satisfied: numpy in /usr/local/lib/python3.6/dist-packages (from pandasql) (1.18.3)\n",
            "Requirement already satisfied: pandas in /usr/local/lib/python3.6/dist-packages (from pandasql) (1.0.3)\n",
            "Requirement already satisfied: sqlalchemy in /usr/local/lib/python3.6/dist-packages (from pandasql) (1.3.16)\n",
            "Requirement already satisfied: python-dateutil>=2.6.1 in /usr/local/lib/python3.6/dist-packages (from pandas->pandasql) (2.8.1)\n",
            "Requirement already satisfied: pytz>=2017.2 in /usr/local/lib/python3.6/dist-packages (from pandas->pandasql) (2018.9)\n",
            "Requirement already satisfied: six>=1.5 in /usr/local/lib/python3.6/dist-packages (from python-dateutil>=2.6.1->pandas->pandasql) (1.12.0)\n",
            "Building wheels for collected packages: pandasql\n",
            "  Building wheel for pandasql (setup.py) ... \u001b[?25l\u001b[?25hdone\n",
            "  Created wheel for pandasql: filename=pandasql-0.7.3-cp36-none-any.whl size=26819 sha256=b28bee19b4b2fbc6ee93f15b7d937c16dd44bab7298c0184f573dc09905925b0\n",
            "  Stored in directory: /root/.cache/pip/wheels/53/6c/18/b87a2e5fa8a82e9c026311de56210b8d1c01846e18a9607fc9\n",
            "Successfully built pandasql\n",
            "Installing collected packages: pandasql\n",
            "Successfully installed pandasql-0.7.3\n"
          ],
          "name": "stdout"
        }
      ]
    },
    {
      "cell_type": "code",
      "metadata": {
        "id": "SG9pde9ZR6x_",
        "colab_type": "code",
        "outputId": "cba3a658-c369-45b4-b1fb-13e7a6edcaae",
        "colab": {
          "base_uri": "https://localhost:8080/",
          "height": 51
        }
      },
      "source": [
        "import numpy as np \n",
        "import pandas as pd \n",
        "import matplotlib.pyplot as plt\n",
        "import pandasql as ps\n",
        "import seaborn as sns"
      ],
      "execution_count": 4,
      "outputs": [
        {
          "output_type": "stream",
          "text": [
            "/usr/local/lib/python3.6/dist-packages/statsmodels/tools/_testing.py:19: FutureWarning: pandas.util.testing is deprecated. Use the functions in the public API at pandas.testing instead.\n",
            "  import pandas.util.testing as tm\n"
          ],
          "name": "stderr"
        }
      ]
    },
    {
      "cell_type": "markdown",
      "metadata": {
        "id": "nNpQEYjCbdbN",
        "colab_type": "text"
      },
      "source": [
        "#### Movie Dataset Analysis\n",
        "\n",
        "Let's first start by looking at some information about movies. First let's import the data and set all the types to their intended types. Note that we've filtered out movies with less than or equal to 20 votes because then a single vote won't have as much weight and there is a more general consesus about the movie. We don't want a movie to be affected so much by just one single vote."
      ]
    },
    {
      "cell_type": "code",
      "metadata": {
        "id": "7j3zfkMsY6f8",
        "colab_type": "code",
        "outputId": "3fd04ca3-7858-483d-a8c5-6ec9ee03971c",
        "colab": {
          "base_uri": "https://localhost:8080/",
          "height": 564
        }
      },
      "source": [
        "import json\n",
        "\n",
        "movies_df = pd.read_csv('movies_metadata.csv', low_memory=False)\n",
        "\n",
        "# converting to the correct types\n",
        "movies_df = movies_df[movies_df.budget.apply(lambda x: x.isnumeric())]\n",
        "movies_df['vote_count'] = pd.to_numeric(movies_df['vote_count'])\n",
        "movies_df['budget'] = pd.to_numeric(movies_df['budget'])\n",
        "\n",
        "movies_df = movies_df[(movies_df['budget'] > 0) & (movies_df['vote_count'] > 20)]\n",
        "\n",
        "movies_df['adult'] = movies_df['adult'].astype('bool')\n",
        "movies_df['release_date'] = pd.to_datetime(movies_df['release_date'], errors='coerce')\n",
        "movies_df['revenue'] = pd.to_numeric(movies_df['revenue'])\n",
        "movies_df['popularity'] = pd.to_numeric(movies_df['popularity'])\n",
        "movies_df['runtime'] = pd.to_numeric(movies_df['runtime'])\n",
        "movies_df['vote_average'] = pd.to_numeric(movies_df['vote_average'])\n",
        "\n",
        "movies_df = movies_df.replace({'\\'': '\"'}, regex=True)\n",
        "\n",
        "movies_df = movies_df.reset_index()\n",
        "\n",
        "movies_df.head()"
      ],
      "execution_count": 5,
      "outputs": [
        {
          "output_type": "execute_result",
          "data": {
            "text/html": [
              "<div>\n",
              "<style scoped>\n",
              "    .dataframe tbody tr th:only-of-type {\n",
              "        vertical-align: middle;\n",
              "    }\n",
              "\n",
              "    .dataframe tbody tr th {\n",
              "        vertical-align: top;\n",
              "    }\n",
              "\n",
              "    .dataframe thead th {\n",
              "        text-align: right;\n",
              "    }\n",
              "</style>\n",
              "<table border=\"1\" class=\"dataframe\">\n",
              "  <thead>\n",
              "    <tr style=\"text-align: right;\">\n",
              "      <th></th>\n",
              "      <th>index</th>\n",
              "      <th>adult</th>\n",
              "      <th>belongs_to_collection</th>\n",
              "      <th>budget</th>\n",
              "      <th>genres</th>\n",
              "      <th>homepage</th>\n",
              "      <th>id</th>\n",
              "      <th>imdb_id</th>\n",
              "      <th>original_language</th>\n",
              "      <th>original_title</th>\n",
              "      <th>overview</th>\n",
              "      <th>popularity</th>\n",
              "      <th>poster_path</th>\n",
              "      <th>production_companies</th>\n",
              "      <th>production_countries</th>\n",
              "      <th>release_date</th>\n",
              "      <th>revenue</th>\n",
              "      <th>runtime</th>\n",
              "      <th>spoken_languages</th>\n",
              "      <th>status</th>\n",
              "      <th>tagline</th>\n",
              "      <th>title</th>\n",
              "      <th>video</th>\n",
              "      <th>vote_average</th>\n",
              "      <th>vote_count</th>\n",
              "    </tr>\n",
              "  </thead>\n",
              "  <tbody>\n",
              "    <tr>\n",
              "      <th>0</th>\n",
              "      <td>0</td>\n",
              "      <td>True</td>\n",
              "      <td>{\"id\": 10194, \"name\": \"Toy Story Collection\", ...</td>\n",
              "      <td>30000000</td>\n",
              "      <td>[{\"id\": 16, \"name\": \"Animation\"}, {\"id\": 35, \"...</td>\n",
              "      <td>http://toystory.disney.com/toy-story</td>\n",
              "      <td>862</td>\n",
              "      <td>tt0114709</td>\n",
              "      <td>en</td>\n",
              "      <td>Toy Story</td>\n",
              "      <td>Led by Woody, Andy\"s toys live happily in his ...</td>\n",
              "      <td>21.946943</td>\n",
              "      <td>/rhIRbceoE9lR4veEXuwCC2wARtG.jpg</td>\n",
              "      <td>[{\"name\": \"Pixar Animation Studios\", \"id\": 3}]</td>\n",
              "      <td>[{\"iso_3166_1\": \"US\", \"name\": \"United States o...</td>\n",
              "      <td>1995-10-30</td>\n",
              "      <td>373554033.0</td>\n",
              "      <td>81.0</td>\n",
              "      <td>[{\"iso_639_1\": \"en\", \"name\": \"English\"}]</td>\n",
              "      <td>Released</td>\n",
              "      <td>NaN</td>\n",
              "      <td>Toy Story</td>\n",
              "      <td>False</td>\n",
              "      <td>7.7</td>\n",
              "      <td>5415.0</td>\n",
              "    </tr>\n",
              "    <tr>\n",
              "      <th>1</th>\n",
              "      <td>1</td>\n",
              "      <td>True</td>\n",
              "      <td>NaN</td>\n",
              "      <td>65000000</td>\n",
              "      <td>[{\"id\": 12, \"name\": \"Adventure\"}, {\"id\": 14, \"...</td>\n",
              "      <td>NaN</td>\n",
              "      <td>8844</td>\n",
              "      <td>tt0113497</td>\n",
              "      <td>en</td>\n",
              "      <td>Jumanji</td>\n",
              "      <td>When siblings Judy and Peter discover an encha...</td>\n",
              "      <td>17.015539</td>\n",
              "      <td>/vzmL6fP7aPKNKPRTFnZmiUfciyV.jpg</td>\n",
              "      <td>[{\"name\": \"TriStar Pictures\", \"id\": 559}, {\"na...</td>\n",
              "      <td>[{\"iso_3166_1\": \"US\", \"name\": \"United States o...</td>\n",
              "      <td>1995-12-15</td>\n",
              "      <td>262797249.0</td>\n",
              "      <td>104.0</td>\n",
              "      <td>[{\"iso_639_1\": \"en\", \"name\": \"English\"}, {\"iso...</td>\n",
              "      <td>Released</td>\n",
              "      <td>Roll the dice and unleash the excitement!</td>\n",
              "      <td>Jumanji</td>\n",
              "      <td>False</td>\n",
              "      <td>6.9</td>\n",
              "      <td>2413.0</td>\n",
              "    </tr>\n",
              "    <tr>\n",
              "      <th>2</th>\n",
              "      <td>3</td>\n",
              "      <td>True</td>\n",
              "      <td>NaN</td>\n",
              "      <td>16000000</td>\n",
              "      <td>[{\"id\": 35, \"name\": \"Comedy\"}, {\"id\": 18, \"nam...</td>\n",
              "      <td>NaN</td>\n",
              "      <td>31357</td>\n",
              "      <td>tt0114885</td>\n",
              "      <td>en</td>\n",
              "      <td>Waiting to Exhale</td>\n",
              "      <td>Cheated on, mistreated and stepped on, the wom...</td>\n",
              "      <td>3.859495</td>\n",
              "      <td>/16XOMpEaLWkrcPqSQqhTmeJuqQl.jpg</td>\n",
              "      <td>[{\"name\": \"Twentieth Century Fox Film Corporat...</td>\n",
              "      <td>[{\"iso_3166_1\": \"US\", \"name\": \"United States o...</td>\n",
              "      <td>1995-12-22</td>\n",
              "      <td>81452156.0</td>\n",
              "      <td>127.0</td>\n",
              "      <td>[{\"iso_639_1\": \"en\", \"name\": \"English\"}]</td>\n",
              "      <td>Released</td>\n",
              "      <td>Friends are the people who let you be yourself...</td>\n",
              "      <td>Waiting to Exhale</td>\n",
              "      <td>False</td>\n",
              "      <td>6.1</td>\n",
              "      <td>34.0</td>\n",
              "    </tr>\n",
              "    <tr>\n",
              "      <th>3</th>\n",
              "      <td>5</td>\n",
              "      <td>True</td>\n",
              "      <td>NaN</td>\n",
              "      <td>60000000</td>\n",
              "      <td>[{\"id\": 28, \"name\": \"Action\"}, {\"id\": 80, \"nam...</td>\n",
              "      <td>NaN</td>\n",
              "      <td>949</td>\n",
              "      <td>tt0113277</td>\n",
              "      <td>en</td>\n",
              "      <td>Heat</td>\n",
              "      <td>Obsessive master thief, Neil McCauley leads a ...</td>\n",
              "      <td>17.924927</td>\n",
              "      <td>/zMyfPUelumio3tiDKPffaUpsQTD.jpg</td>\n",
              "      <td>[{\"name\": \"Regency Enterprises\", \"id\": 508}, {...</td>\n",
              "      <td>[{\"iso_3166_1\": \"US\", \"name\": \"United States o...</td>\n",
              "      <td>1995-12-15</td>\n",
              "      <td>187436818.0</td>\n",
              "      <td>170.0</td>\n",
              "      <td>[{\"iso_639_1\": \"en\", \"name\": \"English\"}, {\"iso...</td>\n",
              "      <td>Released</td>\n",
              "      <td>A Los Angeles Crime Saga</td>\n",
              "      <td>Heat</td>\n",
              "      <td>False</td>\n",
              "      <td>7.7</td>\n",
              "      <td>1886.0</td>\n",
              "    </tr>\n",
              "    <tr>\n",
              "      <th>4</th>\n",
              "      <td>6</td>\n",
              "      <td>True</td>\n",
              "      <td>NaN</td>\n",
              "      <td>58000000</td>\n",
              "      <td>[{\"id\": 35, \"name\": \"Comedy\"}, {\"id\": 10749, \"...</td>\n",
              "      <td>NaN</td>\n",
              "      <td>11860</td>\n",
              "      <td>tt0114319</td>\n",
              "      <td>en</td>\n",
              "      <td>Sabrina</td>\n",
              "      <td>An ugly duckling having undergone a remarkable...</td>\n",
              "      <td>6.677277</td>\n",
              "      <td>/jQh15y5YB7bWz1NtffNZmRw0s9D.jpg</td>\n",
              "      <td>[{\"name\": \"Paramount Pictures\", \"id\": 4}, {\"na...</td>\n",
              "      <td>[{\"iso_3166_1\": \"DE\", \"name\": \"Germany\"}, {\"is...</td>\n",
              "      <td>1995-12-15</td>\n",
              "      <td>0.0</td>\n",
              "      <td>127.0</td>\n",
              "      <td>[{\"iso_639_1\": \"fr\", \"name\": \"Français\"}, {\"is...</td>\n",
              "      <td>Released</td>\n",
              "      <td>You are cordially invited to the most surprisi...</td>\n",
              "      <td>Sabrina</td>\n",
              "      <td>False</td>\n",
              "      <td>6.2</td>\n",
              "      <td>141.0</td>\n",
              "    </tr>\n",
              "  </tbody>\n",
              "</table>\n",
              "</div>"
            ],
            "text/plain": [
              "   index  adult  ... vote_average  vote_count\n",
              "0      0   True  ...          7.7      5415.0\n",
              "1      1   True  ...          6.9      2413.0\n",
              "2      3   True  ...          6.1        34.0\n",
              "3      5   True  ...          7.7      1886.0\n",
              "4      6   True  ...          6.2       141.0\n",
              "\n",
              "[5 rows x 25 columns]"
            ]
          },
          "metadata": {
            "tags": []
          },
          "execution_count": 5
        }
      ]
    },
    {
      "cell_type": "markdown",
      "metadata": {
        "id": "RgBoU6RaV2El",
        "colab_type": "text"
      },
      "source": [
        "Now let's look at some of the highest rated movies. We do this using a SQL query to order by the average vote rating for a movie. Do you see any movies that you like?"
      ]
    },
    {
      "cell_type": "code",
      "metadata": {
        "id": "4vwG_BZuZZdR",
        "colab_type": "code",
        "outputId": "f09c0bc2-856c-4b21-9d77-c3012ce9aa8c",
        "colab": {
          "base_uri": "https://localhost:8080/",
          "height": 1000
        }
      },
      "source": [
        "sqldf = lambda x : ps.sqldf(x, globals())\n",
        "\n",
        "q = '''\n",
        "    SELECT title, vote_average, vote_count\n",
        "    FROM movies_df\n",
        "    ORDER BY vote_average DESC\n",
        "    LIMIT 40\n",
        "    '''\n",
        "\n",
        "top_rated_df = sqldf(q)\n",
        "top_rated_df"
      ],
      "execution_count": 6,
      "outputs": [
        {
          "output_type": "execute_result",
          "data": {
            "text/html": [
              "<div>\n",
              "<style scoped>\n",
              "    .dataframe tbody tr th:only-of-type {\n",
              "        vertical-align: middle;\n",
              "    }\n",
              "\n",
              "    .dataframe tbody tr th {\n",
              "        vertical-align: top;\n",
              "    }\n",
              "\n",
              "    .dataframe thead th {\n",
              "        text-align: right;\n",
              "    }\n",
              "</style>\n",
              "<table border=\"1\" class=\"dataframe\">\n",
              "  <thead>\n",
              "    <tr style=\"text-align: right;\">\n",
              "      <th></th>\n",
              "      <th>title</th>\n",
              "      <th>vote_average</th>\n",
              "      <th>vote_count</th>\n",
              "    </tr>\n",
              "  </thead>\n",
              "  <tbody>\n",
              "    <tr>\n",
              "      <th>0</th>\n",
              "      <td>Dilwale Dulhania Le Jayenge</td>\n",
              "      <td>9.1</td>\n",
              "      <td>661.0</td>\n",
              "    </tr>\n",
              "    <tr>\n",
              "      <th>1</th>\n",
              "      <td>Stop Making Sense</td>\n",
              "      <td>8.7</td>\n",
              "      <td>47.0</td>\n",
              "    </tr>\n",
              "    <tr>\n",
              "      <th>2</th>\n",
              "      <td>Human</td>\n",
              "      <td>8.6</td>\n",
              "      <td>98.0</td>\n",
              "    </tr>\n",
              "    <tr>\n",
              "      <th>3</th>\n",
              "      <td>The Shawshank Redemption</td>\n",
              "      <td>8.5</td>\n",
              "      <td>8358.0</td>\n",
              "    </tr>\n",
              "    <tr>\n",
              "      <th>4</th>\n",
              "      <td>The Godfather</td>\n",
              "      <td>8.5</td>\n",
              "      <td>6024.0</td>\n",
              "    </tr>\n",
              "    <tr>\n",
              "      <th>5</th>\n",
              "      <td>Parched</td>\n",
              "      <td>8.5</td>\n",
              "      <td>23.0</td>\n",
              "    </tr>\n",
              "    <tr>\n",
              "      <th>6</th>\n",
              "      <td>Pulp Fiction</td>\n",
              "      <td>8.3</td>\n",
              "      <td>8670.0</td>\n",
              "    </tr>\n",
              "    <tr>\n",
              "      <th>7</th>\n",
              "      <td>Schindler\"s List</td>\n",
              "      <td>8.3</td>\n",
              "      <td>4436.0</td>\n",
              "    </tr>\n",
              "    <tr>\n",
              "      <th>8</th>\n",
              "      <td>One Flew Over the Cuckoo\"s Nest</td>\n",
              "      <td>8.3</td>\n",
              "      <td>3001.0</td>\n",
              "    </tr>\n",
              "    <tr>\n",
              "      <th>9</th>\n",
              "      <td>Psycho</td>\n",
              "      <td>8.3</td>\n",
              "      <td>2405.0</td>\n",
              "    </tr>\n",
              "    <tr>\n",
              "      <th>10</th>\n",
              "      <td>The Godfather: Part II</td>\n",
              "      <td>8.3</td>\n",
              "      <td>3418.0</td>\n",
              "    </tr>\n",
              "    <tr>\n",
              "      <th>11</th>\n",
              "      <td>Once Upon a Time in America</td>\n",
              "      <td>8.3</td>\n",
              "      <td>1104.0</td>\n",
              "    </tr>\n",
              "    <tr>\n",
              "      <th>12</th>\n",
              "      <td>Life Is Beautiful</td>\n",
              "      <td>8.3</td>\n",
              "      <td>3643.0</td>\n",
              "    </tr>\n",
              "    <tr>\n",
              "      <th>13</th>\n",
              "      <td>Fight Club</td>\n",
              "      <td>8.3</td>\n",
              "      <td>9678.0</td>\n",
              "    </tr>\n",
              "    <tr>\n",
              "      <th>14</th>\n",
              "      <td>Spirited Away</td>\n",
              "      <td>8.3</td>\n",
              "      <td>3968.0</td>\n",
              "    </tr>\n",
              "    <tr>\n",
              "      <th>15</th>\n",
              "      <td>Scenes from a Marriage</td>\n",
              "      <td>8.3</td>\n",
              "      <td>44.0</td>\n",
              "    </tr>\n",
              "    <tr>\n",
              "      <th>16</th>\n",
              "      <td>The Dark Knight</td>\n",
              "      <td>8.3</td>\n",
              "      <td>12269.0</td>\n",
              "    </tr>\n",
              "    <tr>\n",
              "      <th>17</th>\n",
              "      <td>Whiplash</td>\n",
              "      <td>8.3</td>\n",
              "      <td>4376.0</td>\n",
              "    </tr>\n",
              "    <tr>\n",
              "      <th>18</th>\n",
              "      <td>Eu Fico Loko</td>\n",
              "      <td>8.3</td>\n",
              "      <td>22.0</td>\n",
              "    </tr>\n",
              "    <tr>\n",
              "      <th>19</th>\n",
              "      <td>Leon: The Professional</td>\n",
              "      <td>8.2</td>\n",
              "      <td>4293.0</td>\n",
              "    </tr>\n",
              "    <tr>\n",
              "      <th>20</th>\n",
              "      <td>Forrest Gump</td>\n",
              "      <td>8.2</td>\n",
              "      <td>8147.0</td>\n",
              "    </tr>\n",
              "    <tr>\n",
              "      <th>21</th>\n",
              "      <td>Rear Window</td>\n",
              "      <td>8.2</td>\n",
              "      <td>1531.0</td>\n",
              "    </tr>\n",
              "    <tr>\n",
              "      <th>22</th>\n",
              "      <td>Sunset Boulevard</td>\n",
              "      <td>8.2</td>\n",
              "      <td>533.0</td>\n",
              "    </tr>\n",
              "    <tr>\n",
              "      <th>23</th>\n",
              "      <td>Paths of Glory</td>\n",
              "      <td>8.2</td>\n",
              "      <td>565.0</td>\n",
              "    </tr>\n",
              "    <tr>\n",
              "      <th>24</th>\n",
              "      <td>Paris is Burning</td>\n",
              "      <td>8.2</td>\n",
              "      <td>67.0</td>\n",
              "    </tr>\n",
              "    <tr>\n",
              "      <th>25</th>\n",
              "      <td>The Empire Strikes Back</td>\n",
              "      <td>8.2</td>\n",
              "      <td>5998.0</td>\n",
              "    </tr>\n",
              "    <tr>\n",
              "      <th>26</th>\n",
              "      <td>12 Angry Men</td>\n",
              "      <td>8.2</td>\n",
              "      <td>2130.0</td>\n",
              "    </tr>\n",
              "    <tr>\n",
              "      <th>27</th>\n",
              "      <td>GoodFellas</td>\n",
              "      <td>8.2</td>\n",
              "      <td>3211.0</td>\n",
              "    </tr>\n",
              "    <tr>\n",
              "      <th>28</th>\n",
              "      <td>Seven Samurai</td>\n",
              "      <td>8.2</td>\n",
              "      <td>892.0</td>\n",
              "    </tr>\n",
              "    <tr>\n",
              "      <th>29</th>\n",
              "      <td>American History X</td>\n",
              "      <td>8.2</td>\n",
              "      <td>3120.0</td>\n",
              "    </tr>\n",
              "    <tr>\n",
              "      <th>30</th>\n",
              "      <td>Princess Mononoke</td>\n",
              "      <td>8.2</td>\n",
              "      <td>2041.0</td>\n",
              "    </tr>\n",
              "    <tr>\n",
              "      <th>31</th>\n",
              "      <td>The Green Mile</td>\n",
              "      <td>8.2</td>\n",
              "      <td>4166.0</td>\n",
              "    </tr>\n",
              "    <tr>\n",
              "      <th>32</th>\n",
              "      <td>City Lights</td>\n",
              "      <td>8.2</td>\n",
              "      <td>444.0</td>\n",
              "    </tr>\n",
              "    <tr>\n",
              "      <th>33</th>\n",
              "      <td>Grave of the Fireflies</td>\n",
              "      <td>8.2</td>\n",
              "      <td>974.0</td>\n",
              "    </tr>\n",
              "    <tr>\n",
              "      <th>34</th>\n",
              "      <td>City of God</td>\n",
              "      <td>8.2</td>\n",
              "      <td>1852.0</td>\n",
              "    </tr>\n",
              "    <tr>\n",
              "      <th>35</th>\n",
              "      <td>The Red Shoes</td>\n",
              "      <td>8.2</td>\n",
              "      <td>124.0</td>\n",
              "    </tr>\n",
              "    <tr>\n",
              "      <th>36</th>\n",
              "      <td>Howl\"s Moving Castle</td>\n",
              "      <td>8.2</td>\n",
              "      <td>2049.0</td>\n",
              "    </tr>\n",
              "    <tr>\n",
              "      <th>37</th>\n",
              "      <td>The Intouchables</td>\n",
              "      <td>8.2</td>\n",
              "      <td>5410.0</td>\n",
              "    </tr>\n",
              "    <tr>\n",
              "      <th>38</th>\n",
              "      <td>Generation War</td>\n",
              "      <td>8.2</td>\n",
              "      <td>70.0</td>\n",
              "    </tr>\n",
              "    <tr>\n",
              "      <th>39</th>\n",
              "      <td>Mommy</td>\n",
              "      <td>8.2</td>\n",
              "      <td>734.0</td>\n",
              "    </tr>\n",
              "  </tbody>\n",
              "</table>\n",
              "</div>"
            ],
            "text/plain": [
              "                              title  vote_average  vote_count\n",
              "0       Dilwale Dulhania Le Jayenge           9.1       661.0\n",
              "1                 Stop Making Sense           8.7        47.0\n",
              "2                             Human           8.6        98.0\n",
              "3          The Shawshank Redemption           8.5      8358.0\n",
              "4                     The Godfather           8.5      6024.0\n",
              "5                           Parched           8.5        23.0\n",
              "6                      Pulp Fiction           8.3      8670.0\n",
              "7                  Schindler\"s List           8.3      4436.0\n",
              "8   One Flew Over the Cuckoo\"s Nest           8.3      3001.0\n",
              "9                            Psycho           8.3      2405.0\n",
              "10           The Godfather: Part II           8.3      3418.0\n",
              "11      Once Upon a Time in America           8.3      1104.0\n",
              "12                Life Is Beautiful           8.3      3643.0\n",
              "13                       Fight Club           8.3      9678.0\n",
              "14                    Spirited Away           8.3      3968.0\n",
              "15           Scenes from a Marriage           8.3        44.0\n",
              "16                  The Dark Knight           8.3     12269.0\n",
              "17                         Whiplash           8.3      4376.0\n",
              "18                     Eu Fico Loko           8.3        22.0\n",
              "19           Leon: The Professional           8.2      4293.0\n",
              "20                     Forrest Gump           8.2      8147.0\n",
              "21                      Rear Window           8.2      1531.0\n",
              "22                 Sunset Boulevard           8.2       533.0\n",
              "23                   Paths of Glory           8.2       565.0\n",
              "24                 Paris is Burning           8.2        67.0\n",
              "25          The Empire Strikes Back           8.2      5998.0\n",
              "26                     12 Angry Men           8.2      2130.0\n",
              "27                       GoodFellas           8.2      3211.0\n",
              "28                    Seven Samurai           8.2       892.0\n",
              "29               American History X           8.2      3120.0\n",
              "30                Princess Mononoke           8.2      2041.0\n",
              "31                   The Green Mile           8.2      4166.0\n",
              "32                      City Lights           8.2       444.0\n",
              "33           Grave of the Fireflies           8.2       974.0\n",
              "34                      City of God           8.2      1852.0\n",
              "35                    The Red Shoes           8.2       124.0\n",
              "36             Howl\"s Moving Castle           8.2      2049.0\n",
              "37                 The Intouchables           8.2      5410.0\n",
              "38                   Generation War           8.2        70.0\n",
              "39                            Mommy           8.2       734.0"
            ]
          },
          "metadata": {
            "tags": []
          },
          "execution_count": 6
        }
      ]
    },
    {
      "cell_type": "markdown",
      "metadata": {
        "id": "Ts_97lRzWEbI",
        "colab_type": "text"
      },
      "source": [
        "Similarly, we can view the movies with the lowest ratings. Any surprises?"
      ]
    },
    {
      "cell_type": "code",
      "metadata": {
        "id": "k9Onj0_0bUkX",
        "colab_type": "code",
        "outputId": "e2b743b9-af81-49b1-ceb3-d547026e87a9",
        "colab": {
          "base_uri": "https://localhost:8080/",
          "height": 1000
        }
      },
      "source": [
        "q = '''\n",
        "    SELECT title, vote_average, vote_count\n",
        "    FROM movies_df\n",
        "    ORDER BY vote_average ASC\n",
        "    LIMIT 40\n",
        "    '''\n",
        "\n",
        "low_rated_df = sqldf(q)\n",
        "low_rated_df"
      ],
      "execution_count": 7,
      "outputs": [
        {
          "output_type": "execute_result",
          "data": {
            "text/html": [
              "<div>\n",
              "<style scoped>\n",
              "    .dataframe tbody tr th:only-of-type {\n",
              "        vertical-align: middle;\n",
              "    }\n",
              "\n",
              "    .dataframe tbody tr th {\n",
              "        vertical-align: top;\n",
              "    }\n",
              "\n",
              "    .dataframe thead th {\n",
              "        text-align: right;\n",
              "    }\n",
              "</style>\n",
              "<table border=\"1\" class=\"dataframe\">\n",
              "  <thead>\n",
              "    <tr style=\"text-align: right;\">\n",
              "      <th></th>\n",
              "      <th>title</th>\n",
              "      <th>vote_average</th>\n",
              "      <th>vote_count</th>\n",
              "    </tr>\n",
              "  </thead>\n",
              "  <tbody>\n",
              "    <tr>\n",
              "      <th>0</th>\n",
              "      <td>Manos: The Hands of Fate</td>\n",
              "      <td>2.0</td>\n",
              "      <td>56.0</td>\n",
              "    </tr>\n",
              "    <tr>\n",
              "      <th>1</th>\n",
              "      <td>Foodfight!</td>\n",
              "      <td>2.3</td>\n",
              "      <td>28.0</td>\n",
              "    </tr>\n",
              "    <tr>\n",
              "      <th>2</th>\n",
              "      <td>2012 Doomsday</td>\n",
              "      <td>2.3</td>\n",
              "      <td>32.0</td>\n",
              "    </tr>\n",
              "    <tr>\n",
              "      <th>3</th>\n",
              "      <td>Pledge This!</td>\n",
              "      <td>2.7</td>\n",
              "      <td>34.0</td>\n",
              "    </tr>\n",
              "    <tr>\n",
              "      <th>4</th>\n",
              "      <td>House of the Dead</td>\n",
              "      <td>2.8</td>\n",
              "      <td>106.0</td>\n",
              "    </tr>\n",
              "    <tr>\n",
              "      <th>5</th>\n",
              "      <td>Quantum Apocalypse</td>\n",
              "      <td>2.8</td>\n",
              "      <td>25.0</td>\n",
              "    </tr>\n",
              "    <tr>\n",
              "      <th>6</th>\n",
              "      <td>Dragonball Evolution</td>\n",
              "      <td>2.9</td>\n",
              "      <td>475.0</td>\n",
              "    </tr>\n",
              "    <tr>\n",
              "      <th>7</th>\n",
              "      <td>Ace Ventura Jr: Pet Detective</td>\n",
              "      <td>2.9</td>\n",
              "      <td>41.0</td>\n",
              "    </tr>\n",
              "    <tr>\n",
              "      <th>8</th>\n",
              "      <td>500 MPH Storm</td>\n",
              "      <td>2.9</td>\n",
              "      <td>21.0</td>\n",
              "    </tr>\n",
              "    <tr>\n",
              "      <th>9</th>\n",
              "      <td>Battlefield Earth</td>\n",
              "      <td>3.0</td>\n",
              "      <td>259.0</td>\n",
              "    </tr>\n",
              "    <tr>\n",
              "      <th>10</th>\n",
              "      <td>From Justin to Kelly</td>\n",
              "      <td>3.0</td>\n",
              "      <td>23.0</td>\n",
              "    </tr>\n",
              "    <tr>\n",
              "      <th>11</th>\n",
              "      <td>Hellraiser: Revelations</td>\n",
              "      <td>3.0</td>\n",
              "      <td>57.0</td>\n",
              "    </tr>\n",
              "    <tr>\n",
              "      <th>12</th>\n",
              "      <td>Mega Piranha</td>\n",
              "      <td>3.0</td>\n",
              "      <td>52.0</td>\n",
              "    </tr>\n",
              "    <tr>\n",
              "      <th>13</th>\n",
              "      <td>Alone in the Dark</td>\n",
              "      <td>3.1</td>\n",
              "      <td>174.0</td>\n",
              "    </tr>\n",
              "    <tr>\n",
              "      <th>14</th>\n",
              "      <td>Disaster Movie</td>\n",
              "      <td>3.1</td>\n",
              "      <td>250.0</td>\n",
              "    </tr>\n",
              "    <tr>\n",
              "      <th>15</th>\n",
              "      <td>Alone in the Dark 2</td>\n",
              "      <td>3.1</td>\n",
              "      <td>23.0</td>\n",
              "    </tr>\n",
              "    <tr>\n",
              "      <th>16</th>\n",
              "      <td>Far Cry</td>\n",
              "      <td>3.1</td>\n",
              "      <td>73.0</td>\n",
              "    </tr>\n",
              "    <tr>\n",
              "      <th>17</th>\n",
              "      <td>U.F.O.</td>\n",
              "      <td>3.1</td>\n",
              "      <td>47.0</td>\n",
              "    </tr>\n",
              "    <tr>\n",
              "      <th>18</th>\n",
              "      <td>FearDotCom</td>\n",
              "      <td>3.2</td>\n",
              "      <td>106.0</td>\n",
              "    </tr>\n",
              "    <tr>\n",
              "      <th>19</th>\n",
              "      <td>Epic Movie</td>\n",
              "      <td>3.2</td>\n",
              "      <td>334.0</td>\n",
              "    </tr>\n",
              "    <tr>\n",
              "      <th>20</th>\n",
              "      <td>BloodRayne: Deliverance</td>\n",
              "      <td>3.2</td>\n",
              "      <td>56.0</td>\n",
              "    </tr>\n",
              "    <tr>\n",
              "      <th>21</th>\n",
              "      <td>Jack the Giant Killer</td>\n",
              "      <td>3.2</td>\n",
              "      <td>27.0</td>\n",
              "    </tr>\n",
              "    <tr>\n",
              "      <th>22</th>\n",
              "      <td>Baby Geniuses</td>\n",
              "      <td>3.3</td>\n",
              "      <td>75.0</td>\n",
              "    </tr>\n",
              "    <tr>\n",
              "      <th>23</th>\n",
              "      <td>Assassin\"s Bullet</td>\n",
              "      <td>3.3</td>\n",
              "      <td>25.0</td>\n",
              "    </tr>\n",
              "    <tr>\n",
              "      <th>24</th>\n",
              "      <td>Sx_Tape</td>\n",
              "      <td>3.3</td>\n",
              "      <td>33.0</td>\n",
              "    </tr>\n",
              "    <tr>\n",
              "      <th>25</th>\n",
              "      <td>Glitter</td>\n",
              "      <td>3.4</td>\n",
              "      <td>38.0</td>\n",
              "    </tr>\n",
              "    <tr>\n",
              "      <th>26</th>\n",
              "      <td>Bolero</td>\n",
              "      <td>3.4</td>\n",
              "      <td>23.0</td>\n",
              "    </tr>\n",
              "    <tr>\n",
              "      <th>27</th>\n",
              "      <td>Jersey Shore Massacre</td>\n",
              "      <td>3.4</td>\n",
              "      <td>23.0</td>\n",
              "    </tr>\n",
              "    <tr>\n",
              "      <th>28</th>\n",
              "      <td>#Horror</td>\n",
              "      <td>3.4</td>\n",
              "      <td>53.0</td>\n",
              "    </tr>\n",
              "    <tr>\n",
              "      <th>29</th>\n",
              "      <td>Jaws: The Revenge</td>\n",
              "      <td>3.5</td>\n",
              "      <td>227.0</td>\n",
              "    </tr>\n",
              "    <tr>\n",
              "      <th>30</th>\n",
              "      <td>Gigli</td>\n",
              "      <td>3.5</td>\n",
              "      <td>105.0</td>\n",
              "    </tr>\n",
              "    <tr>\n",
              "      <th>31</th>\n",
              "      <td>Santa Claus Conquers the Martians</td>\n",
              "      <td>3.5</td>\n",
              "      <td>30.0</td>\n",
              "    </tr>\n",
              "    <tr>\n",
              "      <th>32</th>\n",
              "      <td>August Underground\"s Mordum</td>\n",
              "      <td>3.5</td>\n",
              "      <td>21.0</td>\n",
              "    </tr>\n",
              "    <tr>\n",
              "      <th>33</th>\n",
              "      <td>Highlander V: The Source</td>\n",
              "      <td>3.5</td>\n",
              "      <td>53.0</td>\n",
              "    </tr>\n",
              "    <tr>\n",
              "      <th>34</th>\n",
              "      <td>Treehouse</td>\n",
              "      <td>3.5</td>\n",
              "      <td>26.0</td>\n",
              "    </tr>\n",
              "    <tr>\n",
              "      <th>35</th>\n",
              "      <td>Ice Spiders</td>\n",
              "      <td>3.5</td>\n",
              "      <td>22.0</td>\n",
              "    </tr>\n",
              "    <tr>\n",
              "      <th>36</th>\n",
              "      <td>Kazaam</td>\n",
              "      <td>3.6</td>\n",
              "      <td>60.0</td>\n",
              "    </tr>\n",
              "    <tr>\n",
              "      <th>37</th>\n",
              "      <td>Inseminoid</td>\n",
              "      <td>3.6</td>\n",
              "      <td>22.0</td>\n",
              "    </tr>\n",
              "    <tr>\n",
              "      <th>38</th>\n",
              "      <td>Best Defense</td>\n",
              "      <td>3.6</td>\n",
              "      <td>25.0</td>\n",
              "    </tr>\n",
              "    <tr>\n",
              "      <th>39</th>\n",
              "      <td>Son of the Mask</td>\n",
              "      <td>3.6</td>\n",
              "      <td>346.0</td>\n",
              "    </tr>\n",
              "  </tbody>\n",
              "</table>\n",
              "</div>"
            ],
            "text/plain": [
              "                                title  vote_average  vote_count\n",
              "0            Manos: The Hands of Fate           2.0        56.0\n",
              "1                          Foodfight!           2.3        28.0\n",
              "2                       2012 Doomsday           2.3        32.0\n",
              "3                        Pledge This!           2.7        34.0\n",
              "4                   House of the Dead           2.8       106.0\n",
              "5                  Quantum Apocalypse           2.8        25.0\n",
              "6                Dragonball Evolution           2.9       475.0\n",
              "7       Ace Ventura Jr: Pet Detective           2.9        41.0\n",
              "8                       500 MPH Storm           2.9        21.0\n",
              "9                   Battlefield Earth           3.0       259.0\n",
              "10               From Justin to Kelly           3.0        23.0\n",
              "11            Hellraiser: Revelations           3.0        57.0\n",
              "12                       Mega Piranha           3.0        52.0\n",
              "13                  Alone in the Dark           3.1       174.0\n",
              "14                     Disaster Movie           3.1       250.0\n",
              "15                Alone in the Dark 2           3.1        23.0\n",
              "16                            Far Cry           3.1        73.0\n",
              "17                             U.F.O.           3.1        47.0\n",
              "18                         FearDotCom           3.2       106.0\n",
              "19                         Epic Movie           3.2       334.0\n",
              "20            BloodRayne: Deliverance           3.2        56.0\n",
              "21              Jack the Giant Killer           3.2        27.0\n",
              "22                      Baby Geniuses           3.3        75.0\n",
              "23                  Assassin\"s Bullet           3.3        25.0\n",
              "24                            Sx_Tape           3.3        33.0\n",
              "25                            Glitter           3.4        38.0\n",
              "26                             Bolero           3.4        23.0\n",
              "27              Jersey Shore Massacre           3.4        23.0\n",
              "28                            #Horror           3.4        53.0\n",
              "29                  Jaws: The Revenge           3.5       227.0\n",
              "30                              Gigli           3.5       105.0\n",
              "31  Santa Claus Conquers the Martians           3.5        30.0\n",
              "32        August Underground\"s Mordum           3.5        21.0\n",
              "33           Highlander V: The Source           3.5        53.0\n",
              "34                          Treehouse           3.5        26.0\n",
              "35                        Ice Spiders           3.5        22.0\n",
              "36                             Kazaam           3.6        60.0\n",
              "37                         Inseminoid           3.6        22.0\n",
              "38                       Best Defense           3.6        25.0\n",
              "39                    Son of the Mask           3.6       346.0"
            ]
          },
          "metadata": {
            "tags": []
          },
          "execution_count": 7
        }
      ]
    },
    {
      "cell_type": "markdown",
      "metadata": {
        "id": "63hW3dpqb63H",
        "colab_type": "text"
      },
      "source": [
        "From our analysis above, we notice that the vote average ratings range from 2.0 to 9.1. "
      ]
    },
    {
      "cell_type": "markdown",
      "metadata": {
        "id": "eKNtixBWWUsF",
        "colab_type": "text"
      },
      "source": [
        "Now let's look into more information about all of these movies and try to learn more about the movie industry."
      ]
    },
    {
      "cell_type": "code",
      "metadata": {
        "id": "67dYabPGbyDQ",
        "colab_type": "code",
        "outputId": "0a66d378-d4b5-4ba0-805a-0a1d580a51e5",
        "colab": {
          "base_uri": "https://localhost:8080/",
          "height": 34
        }
      },
      "source": [
        "movie_average = movies_df['vote_average'].mean()\n",
        "movie_average"
      ],
      "execution_count": 8,
      "outputs": [
        {
          "output_type": "execute_result",
          "data": {
            "text/plain": [
              "6.248124152478539"
            ]
          },
          "metadata": {
            "tags": []
          },
          "execution_count": 8
        }
      ]
    },
    {
      "cell_type": "markdown",
      "metadata": {
        "id": "z28DifjbWnVe",
        "colab_type": "text"
      },
      "source": [
        "Above, we found that the average rating of a movie was around 6.25. Was this what you expected?"
      ]
    },
    {
      "cell_type": "markdown",
      "metadata": {
        "id": "CbRkgQREW3cb",
        "colab_type": "text"
      },
      "source": [
        "Now we are moving on to charting the distribution of average ratings for each movie. To make the chart simpler, we will first round all of the ratings to the nearest whole number. Then we will display a table of frequencies for each whole integer rating and display these in a chart."
      ]
    },
    {
      "cell_type": "code",
      "metadata": {
        "id": "gxDEyQ4YcwkN",
        "colab_type": "code",
        "outputId": "8e7970fa-069a-4c81-841c-05305c714ed6",
        "colab": {
          "base_uri": "https://localhost:8080/",
          "height": 521
        }
      },
      "source": [
        "rounded_ratings_df = movies_df[['title', 'vote_average']]\n",
        "rounded_ratings_df['vote_average'] = rounded_ratings_df['vote_average'].apply(\n",
        "                                            lambda x: round(x, 0)\n",
        "                                          )\n",
        "rounded_ratings_df"
      ],
      "execution_count": 9,
      "outputs": [
        {
          "output_type": "stream",
          "text": [
            "/usr/local/lib/python3.6/dist-packages/ipykernel_launcher.py:3: SettingWithCopyWarning: \n",
            "A value is trying to be set on a copy of a slice from a DataFrame.\n",
            "Try using .loc[row_indexer,col_indexer] = value instead\n",
            "\n",
            "See the caveats in the documentation: https://pandas.pydata.org/pandas-docs/stable/user_guide/indexing.html#returning-a-view-versus-a-copy\n",
            "  This is separate from the ipykernel package so we can avoid doing imports until\n"
          ],
          "name": "stderr"
        },
        {
          "output_type": "execute_result",
          "data": {
            "text/html": [
              "<div>\n",
              "<style scoped>\n",
              "    .dataframe tbody tr th:only-of-type {\n",
              "        vertical-align: middle;\n",
              "    }\n",
              "\n",
              "    .dataframe tbody tr th {\n",
              "        vertical-align: top;\n",
              "    }\n",
              "\n",
              "    .dataframe thead th {\n",
              "        text-align: right;\n",
              "    }\n",
              "</style>\n",
              "<table border=\"1\" class=\"dataframe\">\n",
              "  <thead>\n",
              "    <tr style=\"text-align: right;\">\n",
              "      <th></th>\n",
              "      <th>title</th>\n",
              "      <th>vote_average</th>\n",
              "    </tr>\n",
              "  </thead>\n",
              "  <tbody>\n",
              "    <tr>\n",
              "      <th>0</th>\n",
              "      <td>Toy Story</td>\n",
              "      <td>8.0</td>\n",
              "    </tr>\n",
              "    <tr>\n",
              "      <th>1</th>\n",
              "      <td>Jumanji</td>\n",
              "      <td>7.0</td>\n",
              "    </tr>\n",
              "    <tr>\n",
              "      <th>2</th>\n",
              "      <td>Waiting to Exhale</td>\n",
              "      <td>6.0</td>\n",
              "    </tr>\n",
              "    <tr>\n",
              "      <th>3</th>\n",
              "      <td>Heat</td>\n",
              "      <td>8.0</td>\n",
              "    </tr>\n",
              "    <tr>\n",
              "      <th>4</th>\n",
              "      <td>Sabrina</td>\n",
              "      <td>6.0</td>\n",
              "    </tr>\n",
              "    <tr>\n",
              "      <th>...</th>\n",
              "      <td>...</td>\n",
              "      <td>...</td>\n",
              "    </tr>\n",
              "    <tr>\n",
              "      <th>6632</th>\n",
              "      <td>Wind River</td>\n",
              "      <td>7.0</td>\n",
              "    </tr>\n",
              "    <tr>\n",
              "      <th>6633</th>\n",
              "      <td>Detroit</td>\n",
              "      <td>7.0</td>\n",
              "    </tr>\n",
              "    <tr>\n",
              "      <th>6634</th>\n",
              "      <td>Sivaji: The Boss</td>\n",
              "      <td>7.0</td>\n",
              "    </tr>\n",
              "    <tr>\n",
              "      <th>6635</th>\n",
              "      <td>Good Guys Go to Heaven, Bad Guys Go to Pattaya</td>\n",
              "      <td>5.0</td>\n",
              "    </tr>\n",
              "    <tr>\n",
              "      <th>6636</th>\n",
              "      <td>The Visitors: Bastille Day</td>\n",
              "      <td>4.0</td>\n",
              "    </tr>\n",
              "  </tbody>\n",
              "</table>\n",
              "<p>6637 rows × 2 columns</p>\n",
              "</div>"
            ],
            "text/plain": [
              "                                               title  vote_average\n",
              "0                                          Toy Story           8.0\n",
              "1                                            Jumanji           7.0\n",
              "2                                  Waiting to Exhale           6.0\n",
              "3                                               Heat           8.0\n",
              "4                                            Sabrina           6.0\n",
              "...                                              ...           ...\n",
              "6632                                      Wind River           7.0\n",
              "6633                                         Detroit           7.0\n",
              "6634                                Sivaji: The Boss           7.0\n",
              "6635  Good Guys Go to Heaven, Bad Guys Go to Pattaya           5.0\n",
              "6636                      The Visitors: Bastille Day           4.0\n",
              "\n",
              "[6637 rows x 2 columns]"
            ]
          },
          "metadata": {
            "tags": []
          },
          "execution_count": 9
        }
      ]
    },
    {
      "cell_type": "code",
      "metadata": {
        "id": "oTw3fkOkdUa-",
        "colab_type": "code",
        "outputId": "215d131c-6adb-474b-e06a-df6c2d0d3ce2",
        "colab": {
          "base_uri": "https://localhost:8080/",
          "height": 297
        }
      },
      "source": [
        "q = '''\n",
        "    SELECT vote_average, COUNT(*) AS count\n",
        "    FROM rounded_ratings_df\n",
        "    WHERE vote_average IS NOT NULL\n",
        "    GROUP BY vote_average\n",
        "    '''\n",
        "\n",
        "grouped_ratings_df = sqldf(q)\n",
        "grouped_ratings_df"
      ],
      "execution_count": 10,
      "outputs": [
        {
          "output_type": "execute_result",
          "data": {
            "text/html": [
              "<div>\n",
              "<style scoped>\n",
              "    .dataframe tbody tr th:only-of-type {\n",
              "        vertical-align: middle;\n",
              "    }\n",
              "\n",
              "    .dataframe tbody tr th {\n",
              "        vertical-align: top;\n",
              "    }\n",
              "\n",
              "    .dataframe thead th {\n",
              "        text-align: right;\n",
              "    }\n",
              "</style>\n",
              "<table border=\"1\" class=\"dataframe\">\n",
              "  <thead>\n",
              "    <tr style=\"text-align: right;\">\n",
              "      <th></th>\n",
              "      <th>vote_average</th>\n",
              "      <th>count</th>\n",
              "    </tr>\n",
              "  </thead>\n",
              "  <tbody>\n",
              "    <tr>\n",
              "      <th>0</th>\n",
              "      <td>2.0</td>\n",
              "      <td>3</td>\n",
              "    </tr>\n",
              "    <tr>\n",
              "      <th>1</th>\n",
              "      <td>3.0</td>\n",
              "      <td>26</td>\n",
              "    </tr>\n",
              "    <tr>\n",
              "      <th>2</th>\n",
              "      <td>4.0</td>\n",
              "      <td>237</td>\n",
              "    </tr>\n",
              "    <tr>\n",
              "      <th>3</th>\n",
              "      <td>5.0</td>\n",
              "      <td>939</td>\n",
              "    </tr>\n",
              "    <tr>\n",
              "      <th>4</th>\n",
              "      <td>6.0</td>\n",
              "      <td>2835</td>\n",
              "    </tr>\n",
              "    <tr>\n",
              "      <th>5</th>\n",
              "      <td>7.0</td>\n",
              "      <td>2067</td>\n",
              "    </tr>\n",
              "    <tr>\n",
              "      <th>6</th>\n",
              "      <td>8.0</td>\n",
              "      <td>527</td>\n",
              "    </tr>\n",
              "    <tr>\n",
              "      <th>7</th>\n",
              "      <td>9.0</td>\n",
              "      <td>3</td>\n",
              "    </tr>\n",
              "  </tbody>\n",
              "</table>\n",
              "</div>"
            ],
            "text/plain": [
              "   vote_average  count\n",
              "0           2.0      3\n",
              "1           3.0     26\n",
              "2           4.0    237\n",
              "3           5.0    939\n",
              "4           6.0   2835\n",
              "5           7.0   2067\n",
              "6           8.0    527\n",
              "7           9.0      3"
            ]
          },
          "metadata": {
            "tags": []
          },
          "execution_count": 10
        }
      ]
    },
    {
      "cell_type": "code",
      "metadata": {
        "id": "UdoHcNfUeqnd",
        "colab_type": "code",
        "outputId": "eb516a23-6228-4be8-e6e7-a07382b8ed2a",
        "colab": {
          "base_uri": "https://localhost:8080/",
          "height": 312
        }
      },
      "source": [
        "plt = sns.barplot(grouped_ratings_df['vote_average'], grouped_ratings_df['count'])\n",
        "plt.set_title('Distribution of ratings')\n",
        "plt.set_xlabel('Average Ratings')\n",
        "plt.set_ylabel('Count')"
      ],
      "execution_count": 11,
      "outputs": [
        {
          "output_type": "execute_result",
          "data": {
            "text/plain": [
              "Text(0, 0.5, 'Count')"
            ]
          },
          "metadata": {
            "tags": []
          },
          "execution_count": 11
        },
        {
          "output_type": "display_data",
          "data": {
            "image/png": "[encoded data removed]",
            "text/plain": [
              "<Figure size 432x288 with 1 Axes>"
            ]
          },
          "metadata": {
            "tags": [],
            "needs_background": "light"
          }
        }
      ]
    },
    {
      "cell_type": "markdown",
      "metadata": {
        "id": "vu6CFhv4XLMh",
        "colab_type": "text"
      },
      "source": [
        "Above, we see that the distribution for average ratings for each movie is roughly normal with a peak at a rating close to 6.0. However, we can see from this graph that there is a tendency for movies to recieve slightly higher ratings compared to lower ratings."
      ]
    },
    {
      "cell_type": "markdown",
      "metadata": {
        "id": "S1QOOkI90AS7",
        "colab_type": "text"
      },
      "source": [
        "#### Genre Analysis\n",
        "\n",
        "Now that we know a bit of info on how the movies are rated, let's explore more about the details of these movies. Let's start by investigating some genres of these movies and look for the most popular genres for movies."
      ]
    },
    {
      "cell_type": "markdown",
      "metadata": {
        "id": "QGkx2k9bZN9Q",
        "colab_type": "text"
      },
      "source": [
        "First we must notice that our original dataframe stored genres as a list of json objects within a column. We have to parse this json, and make multiple rows for each movie if it is part of multiple genres. This way, every genre can be accounted for given movies are able to share multiple genres."
      ]
    },
    {
      "cell_type": "code",
      "metadata": {
        "id": "R9gdMEsE8R12",
        "colab_type": "code",
        "outputId": "9d49b538-a05d-4c8b-890a-608c85df94a2",
        "colab": {
          "base_uri": "https://localhost:8080/",
          "height": 683
        }
      },
      "source": [
        "import ast\n",
        "\n",
        "df1 = (pd.concat({k: pd.DataFrame(json.loads(v)) for k, v in movies_df['genres'].items()})\n",
        "         .reset_index(level=1, drop=True))\n",
        "\n",
        "# new table useful because # of genres won't overscale anything else\n",
        "movies_df_genres = movies_df.join(df1, rsuffix='_genre').reset_index(drop=True)\n",
        "movies_df_genres.rename(columns={\"name\": \"genre_name\"}, inplace=True)\n",
        "movies_df_genres.head()"
      ],
      "execution_count": 12,
      "outputs": [
        {
          "output_type": "execute_result",
          "data": {
            "text/html": [
              "<div>\n",
              "<style scoped>\n",
              "    .dataframe tbody tr th:only-of-type {\n",
              "        vertical-align: middle;\n",
              "    }\n",
              "\n",
              "    .dataframe tbody tr th {\n",
              "        vertical-align: top;\n",
              "    }\n",
              "\n",
              "    .dataframe thead th {\n",
              "        text-align: right;\n",
              "    }\n",
              "</style>\n",
              "<table border=\"1\" class=\"dataframe\">\n",
              "  <thead>\n",
              "    <tr style=\"text-align: right;\">\n",
              "      <th></th>\n",
              "      <th>index</th>\n",
              "      <th>adult</th>\n",
              "      <th>belongs_to_collection</th>\n",
              "      <th>budget</th>\n",
              "      <th>genres</th>\n",
              "      <th>homepage</th>\n",
              "      <th>id</th>\n",
              "      <th>imdb_id</th>\n",
              "      <th>original_language</th>\n",
              "      <th>original_title</th>\n",
              "      <th>overview</th>\n",
              "      <th>popularity</th>\n",
              "      <th>poster_path</th>\n",
              "      <th>production_companies</th>\n",
              "      <th>production_countries</th>\n",
              "      <th>release_date</th>\n",
              "      <th>revenue</th>\n",
              "      <th>runtime</th>\n",
              "      <th>spoken_languages</th>\n",
              "      <th>status</th>\n",
              "      <th>tagline</th>\n",
              "      <th>title</th>\n",
              "      <th>video</th>\n",
              "      <th>vote_average</th>\n",
              "      <th>vote_count</th>\n",
              "      <th>id_genre</th>\n",
              "      <th>genre_name</th>\n",
              "    </tr>\n",
              "  </thead>\n",
              "  <tbody>\n",
              "    <tr>\n",
              "      <th>0</th>\n",
              "      <td>0</td>\n",
              "      <td>True</td>\n",
              "      <td>{\"id\": 10194, \"name\": \"Toy Story Collection\", ...</td>\n",
              "      <td>30000000</td>\n",
              "      <td>[{\"id\": 16, \"name\": \"Animation\"}, {\"id\": 35, \"...</td>\n",
              "      <td>http://toystory.disney.com/toy-story</td>\n",
              "      <td>862</td>\n",
              "      <td>tt0114709</td>\n",
              "      <td>en</td>\n",
              "      <td>Toy Story</td>\n",
              "      <td>Led by Woody, Andy\"s toys live happily in his ...</td>\n",
              "      <td>21.946943</td>\n",
              "      <td>/rhIRbceoE9lR4veEXuwCC2wARtG.jpg</td>\n",
              "      <td>[{\"name\": \"Pixar Animation Studios\", \"id\": 3}]</td>\n",
              "      <td>[{\"iso_3166_1\": \"US\", \"name\": \"United States o...</td>\n",
              "      <td>1995-10-30</td>\n",
              "      <td>373554033.0</td>\n",
              "      <td>81.0</td>\n",
              "      <td>[{\"iso_639_1\": \"en\", \"name\": \"English\"}]</td>\n",
              "      <td>Released</td>\n",
              "      <td>NaN</td>\n",
              "      <td>Toy Story</td>\n",
              "      <td>False</td>\n",
              "      <td>7.7</td>\n",
              "      <td>5415.0</td>\n",
              "      <td>16.0</td>\n",
              "      <td>Animation</td>\n",
              "    </tr>\n",
              "    <tr>\n",
              "      <th>1</th>\n",
              "      <td>0</td>\n",
              "      <td>True</td>\n",
              "      <td>{\"id\": 10194, \"name\": \"Toy Story Collection\", ...</td>\n",
              "      <td>30000000</td>\n",
              "      <td>[{\"id\": 16, \"name\": \"Animation\"}, {\"id\": 35, \"...</td>\n",
              "      <td>http://toystory.disney.com/toy-story</td>\n",
              "      <td>862</td>\n",
              "      <td>tt0114709</td>\n",
              "      <td>en</td>\n",
              "      <td>Toy Story</td>\n",
              "      <td>Led by Woody, Andy\"s toys live happily in his ...</td>\n",
              "      <td>21.946943</td>\n",
              "      <td>/rhIRbceoE9lR4veEXuwCC2wARtG.jpg</td>\n",
              "      <td>[{\"name\": \"Pixar Animation Studios\", \"id\": 3}]</td>\n",
              "      <td>[{\"iso_3166_1\": \"US\", \"name\": \"United States o...</td>\n",
              "      <td>1995-10-30</td>\n",
              "      <td>373554033.0</td>\n",
              "      <td>81.0</td>\n",
              "      <td>[{\"iso_639_1\": \"en\", \"name\": \"English\"}]</td>\n",
              "      <td>Released</td>\n",
              "      <td>NaN</td>\n",
              "      <td>Toy Story</td>\n",
              "      <td>False</td>\n",
              "      <td>7.7</td>\n",
              "      <td>5415.0</td>\n",
              "      <td>35.0</td>\n",
              "      <td>Comedy</td>\n",
              "    </tr>\n",
              "    <tr>\n",
              "      <th>2</th>\n",
              "      <td>0</td>\n",
              "      <td>True</td>\n",
              "      <td>{\"id\": 10194, \"name\": \"Toy Story Collection\", ...</td>\n",
              "      <td>30000000</td>\n",
              "      <td>[{\"id\": 16, \"name\": \"Animation\"}, {\"id\": 35, \"...</td>\n",
              "      <td>http://toystory.disney.com/toy-story</td>\n",
              "      <td>862</td>\n",
              "      <td>tt0114709</td>\n",
              "      <td>en</td>\n",
              "      <td>Toy Story</td>\n",
              "      <td>Led by Woody, Andy\"s toys live happily in his ...</td>\n",
              "      <td>21.946943</td>\n",
              "      <td>/rhIRbceoE9lR4veEXuwCC2wARtG.jpg</td>\n",
              "      <td>[{\"name\": \"Pixar Animation Studios\", \"id\": 3}]</td>\n",
              "      <td>[{\"iso_3166_1\": \"US\", \"name\": \"United States o...</td>\n",
              "      <td>1995-10-30</td>\n",
              "      <td>373554033.0</td>\n",
              "      <td>81.0</td>\n",
              "      <td>[{\"iso_639_1\": \"en\", \"name\": \"English\"}]</td>\n",
              "      <td>Released</td>\n",
              "      <td>NaN</td>\n",
              "      <td>Toy Story</td>\n",
              "      <td>False</td>\n",
              "      <td>7.7</td>\n",
              "      <td>5415.0</td>\n",
              "      <td>10751.0</td>\n",
              "      <td>Family</td>\n",
              "    </tr>\n",
              "    <tr>\n",
              "      <th>3</th>\n",
              "      <td>1</td>\n",
              "      <td>True</td>\n",
              "      <td>NaN</td>\n",
              "      <td>65000000</td>\n",
              "      <td>[{\"id\": 12, \"name\": \"Adventure\"}, {\"id\": 14, \"...</td>\n",
              "      <td>NaN</td>\n",
              "      <td>8844</td>\n",
              "      <td>tt0113497</td>\n",
              "      <td>en</td>\n",
              "      <td>Jumanji</td>\n",
              "      <td>When siblings Judy and Peter discover an encha...</td>\n",
              "      <td>17.015539</td>\n",
              "      <td>/vzmL6fP7aPKNKPRTFnZmiUfciyV.jpg</td>\n",
              "      <td>[{\"name\": \"TriStar Pictures\", \"id\": 559}, {\"na...</td>\n",
              "      <td>[{\"iso_3166_1\": \"US\", \"name\": \"United States o...</td>\n",
              "      <td>1995-12-15</td>\n",
              "      <td>262797249.0</td>\n",
              "      <td>104.0</td>\n",
              "      <td>[{\"iso_639_1\": \"en\", \"name\": \"English\"}, {\"iso...</td>\n",
              "      <td>Released</td>\n",
              "      <td>Roll the dice and unleash the excitement!</td>\n",
              "      <td>Jumanji</td>\n",
              "      <td>False</td>\n",
              "      <td>6.9</td>\n",
              "      <td>2413.0</td>\n",
              "      <td>12.0</td>\n",
              "      <td>Adventure</td>\n",
              "    </tr>\n",
              "    <tr>\n",
              "      <th>4</th>\n",
              "      <td>1</td>\n",
              "      <td>True</td>\n",
              "      <td>NaN</td>\n",
              "      <td>65000000</td>\n",
              "      <td>[{\"id\": 12, \"name\": \"Adventure\"}, {\"id\": 14, \"...</td>\n",
              "      <td>NaN</td>\n",
              "      <td>8844</td>\n",
              "      <td>tt0113497</td>\n",
              "      <td>en</td>\n",
              "      <td>Jumanji</td>\n",
              "      <td>When siblings Judy and Peter discover an encha...</td>\n",
              "      <td>17.015539</td>\n",
              "      <td>/vzmL6fP7aPKNKPRTFnZmiUfciyV.jpg</td>\n",
              "      <td>[{\"name\": \"TriStar Pictures\", \"id\": 559}, {\"na...</td>\n",
              "      <td>[{\"iso_3166_1\": \"US\", \"name\": \"United States o...</td>\n",
              "      <td>1995-12-15</td>\n",
              "      <td>262797249.0</td>\n",
              "      <td>104.0</td>\n",
              "      <td>[{\"iso_639_1\": \"en\", \"name\": \"English\"}, {\"iso...</td>\n",
              "      <td>Released</td>\n",
              "      <td>Roll the dice and unleash the excitement!</td>\n",
              "      <td>Jumanji</td>\n",
              "      <td>False</td>\n",
              "      <td>6.9</td>\n",
              "      <td>2413.0</td>\n",
              "      <td>14.0</td>\n",
              "      <td>Fantasy</td>\n",
              "    </tr>\n",
              "  </tbody>\n",
              "</table>\n",
              "</div>"
            ],
            "text/plain": [
              "   index  adult  ... id_genre  genre_name\n",
              "0      0   True  ...     16.0   Animation\n",
              "1      0   True  ...     35.0      Comedy\n",
              "2      0   True  ...  10751.0      Family\n",
              "3      1   True  ...     12.0   Adventure\n",
              "4      1   True  ...     14.0     Fantasy\n",
              "\n",
              "[5 rows x 27 columns]"
            ]
          },
          "metadata": {
            "tags": []
          },
          "execution_count": 12
        }
      ]
    },
    {
      "cell_type": "markdown",
      "metadata": {
        "id": "9dnLz7B-ZnIp",
        "colab_type": "text"
      },
      "source": [
        "Now that we have successfully \"expanded\" the column containing the json list for genres, we now prepare to display the information about genres. For the purpose of displaying this information, we will use a pie chart. This is good for visualizing the proportion of a genre within the industry. To prepare for creating a pie chart, we must gather all of the frequencies for each genre. We will store this in a dictionary. Additioanlly, we'll store any genre with fewer than 200 movies as part of a category called 'Other'."
      ]
    },
    {
      "cell_type": "code",
      "metadata": {
        "id": "TZ1S8cq3e4LR",
        "colab_type": "code",
        "colab": {}
      },
      "source": [
        "import json\n",
        "\n",
        "genres = {}\n",
        "\n",
        "for genre in movies_df_genres['genre_name']:\n",
        "  if genre in genres:\n",
        "    genres[genre] += 1\n",
        "  else:\n",
        "    genres[genre] = 1"
      ],
      "execution_count": 0,
      "outputs": []
    },
    {
      "cell_type": "code",
      "metadata": {
        "id": "K-APAtjH4Hl1",
        "colab_type": "code",
        "outputId": "7e06e91f-444f-44b9-f52b-3484294b448b",
        "colab": {
          "base_uri": "https://localhost:8080/",
          "height": 750
        }
      },
      "source": [
        "import matplotlib.pyplot as plt\n",
        "\n",
        "genres['Other'] = 0\n",
        "to_del = []\n",
        "\n",
        "for g in genres:\n",
        "  if g != 'Other':\n",
        "    if genres[g] < 200:\n",
        "      genres['Other'] += genres[g]\n",
        "      to_del.append(g)\n",
        "\n",
        "for d in to_del:\n",
        "  del genres[d]\n",
        "\n",
        "sizes = [genres[x] for x in genres]\n",
        "labels=[x for x in genres]\n",
        "\n",
        "try:\n",
        "  fig1, ax1 = plt.subplots()\n",
        "  fig1.set_size_inches(12, 12)\n",
        "  patches, text = ax1.pie(sizes, labels=labels, autopct='%.0f%%')\n",
        "except:\n",
        "  pass\n",
        "\n",
        "ax1.axis('equal')\n",
        "ax1.set_title(\"Genres of movies\", fontsize = 20)\n",
        "ax1.title.set_position([.5, 1.05])\n",
        "plt.show()"
      ],
      "execution_count": 14,
      "outputs": [
        {
          "output_type": "display_data",
          "data": {
            "image/png": "[encoded data removed]",
            "text/plain": [
              "<Figure size 864x864 with 1 Axes>"
            ]
          },
          "metadata": {
            "tags": []
          }
        }
      ]
    },
    {
      "cell_type": "markdown",
      "metadata": {
        "id": "gBRafPUFaBc8",
        "colab_type": "text"
      },
      "source": [
        "Based on our results above, we see that the most common genre is Drama, followed by Comedy, Trhiller, and Action. Knowing these frequencies could be important when determine factors to consider when modeling."
      ]
    },
    {
      "cell_type": "markdown",
      "metadata": {
        "id": "Wd80ORMGcVJP",
        "colab_type": "text"
      },
      "source": [
        "It is a common conception that movies with a higher budget are rated higher. Let's investigate this claim by comparing the vote rating average for movies based on their budgets."
      ]
    },
    {
      "cell_type": "code",
      "metadata": {
        "id": "GwS0I1k498J1",
        "colab_type": "code",
        "outputId": "f7b8b649-22b2-471a-f20b-5270432d1f8c",
        "colab": {
          "base_uri": "https://localhost:8080/",
          "height": 295
        }
      },
      "source": [
        "import matplotlib.ticker as ticker\n",
        "\n",
        "ax = sns.scatterplot(movies_df['budget'], movies_df['vote_average'])\n",
        "ax.xaxis.set_major_formatter(ax.get_xaxis().get_major_formatter())\n",
        "ax.xaxis.set_major_locator(ticker.MultipleLocator(base=30000000))\n",
        "ax.set_title('Budget vs. Vote Average')\n",
        "ax.set_xlabel\n",
        "plt.show()"
      ],
      "execution_count": 15,
      "outputs": [
        {
          "output_type": "display_data",
          "data": {
            "image/png": "[encoded data removed]",
            "text/plain": [
              "<Figure size 432x288 with 1 Axes>"
            ]
          },
          "metadata": {
            "tags": [],
            "needs_background": "light"
          }
        }
      ]
    },
    {
      "cell_type": "markdown",
      "metadata": {
        "id": "A988m_b7cg_h",
        "colab_type": "text"
      },
      "source": [
        "The graph produced above is very interesting. It seems like as the budget gets higher and higher, the variation among ratings decreases. For lower budgets, a movie can either be very good or very bad, but as the budget increases, the ratings start to consilidate in the 5-8 rating range. So budget might not make your movie a 10/10, but it could be important for being confident that your movie isn't a total flop."
      ]
    },
    {
      "cell_type": "markdown",
      "metadata": {
        "id": "STPZRZandRYR",
        "colab_type": "text"
      },
      "source": [
        "Now let's investigate movie revenue. Specifically, we are looking at whether a higher rating constitutes more revenue generated from a movie. Do better movies generate more revenue?"
      ]
    },
    {
      "cell_type": "code",
      "metadata": {
        "id": "Tuz62ZSTBRaJ",
        "colab_type": "code",
        "outputId": "3ec42478-6285-40cd-99e0-13cda8db718e",
        "colab": {
          "base_uri": "https://localhost:8080/",
          "height": 313
        }
      },
      "source": [
        "ax = sns.scatterplot(movies_df['vote_average'], movies_df['revenue'])\n",
        "ax.set_title('Vote Average vs. Revenue')"
      ],
      "execution_count": 16,
      "outputs": [
        {
          "output_type": "execute_result",
          "data": {
            "text/plain": [
              "Text(0.5, 1.0, 'Vote Average vs. Revenue')"
            ]
          },
          "metadata": {
            "tags": []
          },
          "execution_count": 16
        },
        {
          "output_type": "display_data",
          "data": {
            "image/png": "[encoded data removed]",
            "text/plain": [
              "<Figure size 432x288 with 1 Axes>"
            ]
          },
          "metadata": {
            "tags": [],
            "needs_background": "light"
          }
        }
      ]
    },
    {
      "cell_type": "markdown",
      "metadata": {
        "id": "22w61tdrenwb",
        "colab_type": "text"
      },
      "source": [
        "The graph above is really interesting. The main idea is that lower rated movies almost never make a good amount of revenue, and as the rating increases, there are more movies that make more revenue, but there continues to be many movies that make little amounts of revenue. From here we learn that there are many factors that go into revenue for a movie, not just how highly rated and successful it is."
      ]
    },
    {
      "cell_type": "markdown",
      "metadata": {
        "id": "y0lASgA2fFoU",
        "colab_type": "text"
      },
      "source": [
        "The next thing we are investigating is how the movie industry is changing throughout time. I wanted to see how many more movies were made today compared to decades ago. Here we will be plotting the count of movies made every 15 or so years throughout the past 80 years."
      ]
    },
    {
      "cell_type": "code",
      "metadata": {
        "id": "pFLkbG1iwqsl",
        "colab_type": "code",
        "outputId": "2c3c7192-d796-41c8-dcbf-9471faf7d63e",
        "colab": {
          "base_uri": "https://localhost:8080/",
          "height": 312
        }
      },
      "source": [
        "ax = plt.hist(movies_df['release_date'])\n",
        "plt.title('Amount of movies throughout time')\n",
        "plt.xlabel('Year')\n",
        "plt.ylabel('Count')"
      ],
      "execution_count": 17,
      "outputs": [
        {
          "output_type": "execute_result",
          "data": {
            "text/plain": [
              "Text(0, 0.5, 'Count')"
            ]
          },
          "metadata": {
            "tags": []
          },
          "execution_count": 17
        },
        {
          "output_type": "display_data",
          "data": {
            "image/png": "[encoded data removed]",
            "text/plain": [
              "<Figure size 432x288 with 1 Axes>"
            ]
          },
          "metadata": {
            "tags": [],
            "needs_background": "light"
          }
        }
      ]
    },
    {
      "cell_type": "markdown",
      "metadata": {
        "id": "htWL7gD6fa4l",
        "colab_type": "text"
      },
      "source": [
        "This was what we expected. As technology became more and more advanced, more and more movies could be created, leading to a huge increase of movie production over the years."
      ]
    },
    {
      "cell_type": "markdown",
      "metadata": {
        "id": "BwK9kbeAE9RS",
        "colab_type": "text"
      },
      "source": [
        "#### User Ratings Analysis.\n",
        "\n",
        "We've learned a lot about movies and now let's transition into learning information about the users who rate these movies by analyzing the ratings.csv data. Note that the system for ratings in this table is on a 5 star scale, but in the movies data frame the rating is based on a 0 to 10 scale."
      ]
    },
    {
      "cell_type": "code",
      "metadata": {
        "id": "6VC_fbZPDffi",
        "colab_type": "code",
        "outputId": "fc37258a-a598-4d19-a298-9ef7e7250b9c",
        "colab": {
          "base_uri": "https://localhost:8080/",
          "height": 419
        }
      },
      "source": [
        "ratings_df = pd.read_csv('ratings.csv', low_memory=False)\n",
        "ratings_df"
      ],
      "execution_count": 18,
      "outputs": [
        {
          "output_type": "execute_result",
          "data": {
            "text/html": [
              "<div>\n",
              "<style scoped>\n",
              "    .dataframe tbody tr th:only-of-type {\n",
              "        vertical-align: middle;\n",
              "    }\n",
              "\n",
              "    .dataframe tbody tr th {\n",
              "        vertical-align: top;\n",
              "    }\n",
              "\n",
              "    .dataframe thead th {\n",
              "        text-align: right;\n",
              "    }\n",
              "</style>\n",
              "<table border=\"1\" class=\"dataframe\">\n",
              "  <thead>\n",
              "    <tr style=\"text-align: right;\">\n",
              "      <th></th>\n",
              "      <th>userId</th>\n",
              "      <th>movieId</th>\n",
              "      <th>rating</th>\n",
              "      <th>timestamp</th>\n",
              "    </tr>\n",
              "  </thead>\n",
              "  <tbody>\n",
              "    <tr>\n",
              "      <th>0</th>\n",
              "      <td>1</td>\n",
              "      <td>110</td>\n",
              "      <td>1.0</td>\n",
              "      <td>1425941529</td>\n",
              "    </tr>\n",
              "    <tr>\n",
              "      <th>1</th>\n",
              "      <td>1</td>\n",
              "      <td>147</td>\n",
              "      <td>4.5</td>\n",
              "      <td>1425942435</td>\n",
              "    </tr>\n",
              "    <tr>\n",
              "      <th>2</th>\n",
              "      <td>1</td>\n",
              "      <td>858</td>\n",
              "      <td>5.0</td>\n",
              "      <td>1425941523</td>\n",
              "    </tr>\n",
              "    <tr>\n",
              "      <th>3</th>\n",
              "      <td>1</td>\n",
              "      <td>1221</td>\n",
              "      <td>5.0</td>\n",
              "      <td>1425941546</td>\n",
              "    </tr>\n",
              "    <tr>\n",
              "      <th>4</th>\n",
              "      <td>1</td>\n",
              "      <td>1246</td>\n",
              "      <td>5.0</td>\n",
              "      <td>1425941556</td>\n",
              "    </tr>\n",
              "    <tr>\n",
              "      <th>...</th>\n",
              "      <td>...</td>\n",
              "      <td>...</td>\n",
              "      <td>...</td>\n",
              "      <td>...</td>\n",
              "    </tr>\n",
              "    <tr>\n",
              "      <th>26024284</th>\n",
              "      <td>270896</td>\n",
              "      <td>58559</td>\n",
              "      <td>5.0</td>\n",
              "      <td>1257031564</td>\n",
              "    </tr>\n",
              "    <tr>\n",
              "      <th>26024285</th>\n",
              "      <td>270896</td>\n",
              "      <td>60069</td>\n",
              "      <td>5.0</td>\n",
              "      <td>1257032032</td>\n",
              "    </tr>\n",
              "    <tr>\n",
              "      <th>26024286</th>\n",
              "      <td>270896</td>\n",
              "      <td>63082</td>\n",
              "      <td>4.5</td>\n",
              "      <td>1257031764</td>\n",
              "    </tr>\n",
              "    <tr>\n",
              "      <th>26024287</th>\n",
              "      <td>270896</td>\n",
              "      <td>64957</td>\n",
              "      <td>4.5</td>\n",
              "      <td>1257033990</td>\n",
              "    </tr>\n",
              "    <tr>\n",
              "      <th>26024288</th>\n",
              "      <td>270896</td>\n",
              "      <td>71878</td>\n",
              "      <td>2.0</td>\n",
              "      <td>1257031858</td>\n",
              "    </tr>\n",
              "  </tbody>\n",
              "</table>\n",
              "<p>26024289 rows × 4 columns</p>\n",
              "</div>"
            ],
            "text/plain": [
              "          userId  movieId  rating   timestamp\n",
              "0              1      110     1.0  1425941529\n",
              "1              1      147     4.5  1425942435\n",
              "2              1      858     5.0  1425941523\n",
              "3              1     1221     5.0  1425941546\n",
              "4              1     1246     5.0  1425941556\n",
              "...          ...      ...     ...         ...\n",
              "26024284  270896    58559     5.0  1257031564\n",
              "26024285  270896    60069     5.0  1257032032\n",
              "26024286  270896    63082     4.5  1257031764\n",
              "26024287  270896    64957     4.5  1257033990\n",
              "26024288  270896    71878     2.0  1257031858\n",
              "\n",
              "[26024289 rows x 4 columns]"
            ]
          },
          "metadata": {
            "tags": []
          },
          "execution_count": 18
        }
      ]
    },
    {
      "cell_type": "markdown",
      "metadata": {
        "id": "rt_LC2flf4xd",
        "colab_type": "text"
      },
      "source": [
        "We want to gain information about users, so we will group by userId so we can get a general idea about the behaviors of each user."
      ]
    },
    {
      "cell_type": "code",
      "metadata": {
        "id": "spnvno4qFCwa",
        "colab_type": "code",
        "colab": {
          "base_uri": "https://localhost:8080/",
          "height": 419
        },
        "outputId": "9710e5ca-c0a7-410f-b259-6a8bb92eb8dd"
      },
      "source": [
        "q = '''\n",
        "SELECT userId, COUNT(*) as count, AVG(rating) as average\n",
        "FROM ratings_df\n",
        "GROUP BY userId\n",
        "'''\n",
        "\n",
        "user_ratings_df = sqldf(q)\n",
        "user_ratings_df"
      ],
      "execution_count": 19,
      "outputs": [
        {
          "output_type": "execute_result",
          "data": {
            "text/html": [
              "<div>\n",
              "<style scoped>\n",
              "    .dataframe tbody tr th:only-of-type {\n",
              "        vertical-align: middle;\n",
              "    }\n",
              "\n",
              "    .dataframe tbody tr th {\n",
              "        vertical-align: top;\n",
              "    }\n",
              "\n",
              "    .dataframe thead th {\n",
              "        text-align: right;\n",
              "    }\n",
              "</style>\n",
              "<table border=\"1\" class=\"dataframe\">\n",
              "  <thead>\n",
              "    <tr style=\"text-align: right;\">\n",
              "      <th></th>\n",
              "      <th>userId</th>\n",
              "      <th>count</th>\n",
              "      <th>average</th>\n",
              "    </tr>\n",
              "  </thead>\n",
              "  <tbody>\n",
              "    <tr>\n",
              "      <th>0</th>\n",
              "      <td>1</td>\n",
              "      <td>27</td>\n",
              "      <td>4.277778</td>\n",
              "    </tr>\n",
              "    <tr>\n",
              "      <th>1</th>\n",
              "      <td>2</td>\n",
              "      <td>22</td>\n",
              "      <td>3.318182</td>\n",
              "    </tr>\n",
              "    <tr>\n",
              "      <th>2</th>\n",
              "      <td>3</td>\n",
              "      <td>10</td>\n",
              "      <td>3.100000</td>\n",
              "    </tr>\n",
              "    <tr>\n",
              "      <th>3</th>\n",
              "      <td>4</td>\n",
              "      <td>62</td>\n",
              "      <td>3.500000</td>\n",
              "    </tr>\n",
              "    <tr>\n",
              "      <th>4</th>\n",
              "      <td>5</td>\n",
              "      <td>26</td>\n",
              "      <td>4.269231</td>\n",
              "    </tr>\n",
              "    <tr>\n",
              "      <th>...</th>\n",
              "      <td>...</td>\n",
              "      <td>...</td>\n",
              "      <td>...</td>\n",
              "    </tr>\n",
              "    <tr>\n",
              "      <th>270891</th>\n",
              "      <td>270892</td>\n",
              "      <td>75</td>\n",
              "      <td>3.640000</td>\n",
              "    </tr>\n",
              "    <tr>\n",
              "      <th>270892</th>\n",
              "      <td>270893</td>\n",
              "      <td>190</td>\n",
              "      <td>3.673684</td>\n",
              "    </tr>\n",
              "    <tr>\n",
              "      <th>270893</th>\n",
              "      <td>270894</td>\n",
              "      <td>148</td>\n",
              "      <td>2.516892</td>\n",
              "    </tr>\n",
              "    <tr>\n",
              "      <th>270894</th>\n",
              "      <td>270895</td>\n",
              "      <td>20</td>\n",
              "      <td>4.300000</td>\n",
              "    </tr>\n",
              "    <tr>\n",
              "      <th>270895</th>\n",
              "      <td>270896</td>\n",
              "      <td>260</td>\n",
              "      <td>3.980769</td>\n",
              "    </tr>\n",
              "  </tbody>\n",
              "</table>\n",
              "<p>270896 rows × 3 columns</p>\n",
              "</div>"
            ],
            "text/plain": [
              "        userId  count   average\n",
              "0            1     27  4.277778\n",
              "1            2     22  3.318182\n",
              "2            3     10  3.100000\n",
              "3            4     62  3.500000\n",
              "4            5     26  4.269231\n",
              "...        ...    ...       ...\n",
              "270891  270892     75  3.640000\n",
              "270892  270893    190  3.673684\n",
              "270893  270894    148  2.516892\n",
              "270894  270895     20  4.300000\n",
              "270895  270896    260  3.980769\n",
              "\n",
              "[270896 rows x 3 columns]"
            ]
          },
          "metadata": {
            "tags": []
          },
          "execution_count": 19
        }
      ]
    },
    {
      "cell_type": "markdown",
      "metadata": {
        "id": "d97T0UwAgDTe",
        "colab_type": "text"
      },
      "source": [
        "Now that we've finished setting up, let's learn more about the behaviors of users. First let's find the typical amount of movies that each user rates."
      ]
    },
    {
      "cell_type": "code",
      "metadata": {
        "id": "0kTqwDCxgKuJ",
        "colab_type": "code",
        "colab": {}
      },
      "source": [
        "q = '''\n",
        "SELECT * FROM user_ratings_df\n",
        "ORDER BY count DECR\n",
        "'''\n",
        "\n",
        "user_ratings_df = sqldf(q)\n",
        "user_ratings_df"
      ],
      "execution_count": 0,
      "outputs": []
    },
    {
      "cell_type": "code",
      "metadata": {
        "id": "DJIYMjoEHQv4",
        "colab_type": "code",
        "colab": {
          "base_uri": "https://localhost:8080/",
          "height": 312
        },
        "outputId": "a99ed9f6-ae19-4eb2-b5a1-ac56c178ff98"
      },
      "source": [
        "plt = sns.distplot(user_ratings_df['count'], bins=800)\n",
        "# plt.set(xlim=(0,800))\n",
        "plt.set(ylim=(0,0.01))\n",
        "plt.set_title('Distribution for reviews per user')"
      ],
      "execution_count": 57,
      "outputs": [
        {
          "output_type": "execute_result",
          "data": {
            "text/plain": [
              "Text(0.5, 1.0, 'Distribution for reviews per user')"
            ]
          },
          "metadata": {
            "tags": []
          },
          "execution_count": 57
        },
        {
          "output_type": "display_data",
          "data": {
            "image/png": "[encoded data removed]",
            "text/plain": [
              "<Figure size 432x288 with 1 Axes>"
            ]
          },
          "metadata": {
            "tags": [],
            "needs_background": "light"
          }
        }
      ]
    },
    {
      "cell_type": "code",
      "metadata": {
        "id": "zRdJ0WYvKuow",
        "colab_type": "code",
        "colab": {
          "base_uri": "https://localhost:8080/",
          "height": 34
        },
        "outputId": "58d6910f-7162-415e-cfe6-c1d3a3fcd6e8"
      },
      "source": [
        "rating_count_average = user_ratings_df['count'].mean()\n",
        "rating_count_average"
      ],
      "execution_count": 49,
      "outputs": [
        {
          "output_type": "execute_result",
          "data": {
            "text/plain": [
              "96.06745393065974"
            ]
          },
          "metadata": {
            "tags": []
          },
          "execution_count": 49
        }
      ]
    },
    {
      "cell_type": "code",
      "metadata": {
        "id": "0NMmkkFfK58A",
        "colab_type": "code",
        "colab": {
          "base_uri": "https://localhost:8080/",
          "height": 34
        },
        "outputId": "ce867885-8b89-4137-e7e2-b57cfabed3cb"
      },
      "source": [
        "rating_count_med = user_ratings_df['count'].median()\n",
        "rating_count_med"
      ],
      "execution_count": 51,
      "outputs": [
        {
          "output_type": "execute_result",
          "data": {
            "text/plain": [
              "30.0"
            ]
          },
          "metadata": {
            "tags": []
          },
          "execution_count": 51
        }
      ]
    },
    {
      "cell_type": "code",
      "metadata": {
        "id": "Sy9AfsiBL55N",
        "colab_type": "code",
        "colab": {
          "base_uri": "https://localhost:8080/",
          "height": 312
        },
        "outputId": "4e87f419-22a5-40df-c01d-0f38b1795c6c"
      },
      "source": [
        "plt = sns.distplot(user_ratings_df['count'], bins=800)\n",
        "plt.set(xlim=(0,800))\n",
        "plt.set(ylim=(0,0.025))\n",
        "plt.set_title('Distribution for reviews per user')"
      ],
      "execution_count": 64,
      "outputs": [
        {
          "output_type": "execute_result",
          "data": {
            "text/plain": [
              "Text(0.5, 1.0, 'Distribution for reviews per user')"
            ]
          },
          "metadata": {
            "tags": []
          },
          "execution_count": 64
        },
        {
          "output_type": "display_data",
          "data": {
            "image/png": "[encoded data removed]",
            "text/plain": [
              "<Figure size 432x288 with 1 Axes>"
            ]
          },
          "metadata": {
            "tags": [],
            "needs_background": "light"
          }
        }
      ]
    },
    {
      "cell_type": "markdown",
      "metadata": {
        "id": "uzxO-OJ3hZaH",
        "colab_type": "text"
      },
      "source": [
        "Here our analysis indicates that the amount of ratings users submit are usually under 100, around 30. However, there are a few users who submit many many reviews, which causes the average to be so much higher than the median."
      ]
    },
    {
      "cell_type": "markdown",
      "metadata": {
        "id": "uUVsgH_1g-le",
        "colab_type": "text"
      },
      "source": [
        "Now let's learn about the distribution of average ratings for each user. Here we can see if users are generally more positive with their ratings or more negative."
      ]
    },
    {
      "cell_type": "code",
      "metadata": {
        "id": "GTy_JFmLLZRC",
        "colab_type": "code",
        "colab": {
          "base_uri": "https://localhost:8080/",
          "height": 312
        },
        "outputId": "fbcc2cb6-c7ed-48ba-909a-edf785b5001b"
      },
      "source": [
        "plt = sns.distplot(user_ratings_df['average'], bins=50)\n",
        "plt.set_title('Distribution for average ratings per user')"
      ],
      "execution_count": 54,
      "outputs": [
        {
          "output_type": "execute_result",
          "data": {
            "text/plain": [
              "Text(0.5, 1.0, 'Distribution for average ratings per user')"
            ]
          },
          "metadata": {
            "tags": []
          },
          "execution_count": 54
        },
        {
          "output_type": "display_data",
          "data": {
            "image/png": "[encoded data removed]",
            "text/plain": [
              "<Figure size 432x288 with 1 Axes>"
            ]
          },
          "metadata": {
            "tags": [],
            "needs_background": "light"
          }
        }
      ]
    },
    {
      "cell_type": "code",
      "metadata": {
        "id": "RJIf_G12MHl4",
        "colab_type": "code",
        "colab": {
          "base_uri": "https://localhost:8080/",
          "height": 34
        },
        "outputId": "3b29889c-4cc0-4f74-e76b-6aa04c172dc6"
      },
      "source": [
        "user_rating_average = user_ratings_df['average'].mean()\n",
        "user_rating_average"
      ],
      "execution_count": 65,
      "outputs": [
        {
          "output_type": "execute_result",
          "data": {
            "text/plain": [
              "3.6205382062299956"
            ]
          },
          "metadata": {
            "tags": []
          },
          "execution_count": 65
        }
      ]
    },
    {
      "cell_type": "code",
      "metadata": {
        "id": "27OGqhMMMPSb",
        "colab_type": "code",
        "colab": {
          "base_uri": "https://localhost:8080/",
          "height": 419
        },
        "outputId": "9fc79e26-014e-45b9-e469-f156fd01cff4"
      },
      "source": [
        "q = '''\n",
        "SELECT * FROM user_ratings_df\n",
        "WHERE count >= 5\n",
        "ORDER BY average DESC\n",
        "'''\n",
        "\n",
        "positive_users_df = sqldf(q)\n",
        "positive_users_df"
      ],
      "execution_count": 71,
      "outputs": [
        {
          "output_type": "execute_result",
          "data": {
            "text/html": [
              "<div>\n",
              "<style scoped>\n",
              "    .dataframe tbody tr th:only-of-type {\n",
              "        vertical-align: middle;\n",
              "    }\n",
              "\n",
              "    .dataframe tbody tr th {\n",
              "        vertical-align: top;\n",
              "    }\n",
              "\n",
              "    .dataframe thead th {\n",
              "        text-align: right;\n",
              "    }\n",
              "</style>\n",
              "<table border=\"1\" class=\"dataframe\">\n",
              "  <thead>\n",
              "    <tr style=\"text-align: right;\">\n",
              "      <th></th>\n",
              "      <th>userId</th>\n",
              "      <th>count</th>\n",
              "      <th>average</th>\n",
              "    </tr>\n",
              "  </thead>\n",
              "  <tbody>\n",
              "    <tr>\n",
              "      <th>0</th>\n",
              "      <td>57</td>\n",
              "      <td>15</td>\n",
              "      <td>5.0</td>\n",
              "    </tr>\n",
              "    <tr>\n",
              "      <th>1</th>\n",
              "      <td>315</td>\n",
              "      <td>15</td>\n",
              "      <td>5.0</td>\n",
              "    </tr>\n",
              "    <tr>\n",
              "      <th>2</th>\n",
              "      <td>464</td>\n",
              "      <td>17</td>\n",
              "      <td>5.0</td>\n",
              "    </tr>\n",
              "    <tr>\n",
              "      <th>3</th>\n",
              "      <td>550</td>\n",
              "      <td>15</td>\n",
              "      <td>5.0</td>\n",
              "    </tr>\n",
              "    <tr>\n",
              "      <th>4</th>\n",
              "      <td>980</td>\n",
              "      <td>8</td>\n",
              "      <td>5.0</td>\n",
              "    </tr>\n",
              "    <tr>\n",
              "      <th>...</th>\n",
              "      <td>...</td>\n",
              "      <td>...</td>\n",
              "      <td>...</td>\n",
              "    </tr>\n",
              "    <tr>\n",
              "      <th>256102</th>\n",
              "      <td>236749</td>\n",
              "      <td>15</td>\n",
              "      <td>0.5</td>\n",
              "    </tr>\n",
              "    <tr>\n",
              "      <th>256103</th>\n",
              "      <td>239335</td>\n",
              "      <td>16</td>\n",
              "      <td>0.5</td>\n",
              "    </tr>\n",
              "    <tr>\n",
              "      <th>256104</th>\n",
              "      <td>240352</td>\n",
              "      <td>9</td>\n",
              "      <td>0.5</td>\n",
              "    </tr>\n",
              "    <tr>\n",
              "      <th>256105</th>\n",
              "      <td>245398</td>\n",
              "      <td>20</td>\n",
              "      <td>0.5</td>\n",
              "    </tr>\n",
              "    <tr>\n",
              "      <th>256106</th>\n",
              "      <td>269902</td>\n",
              "      <td>20</td>\n",
              "      <td>0.5</td>\n",
              "    </tr>\n",
              "  </tbody>\n",
              "</table>\n",
              "<p>256107 rows × 3 columns</p>\n",
              "</div>"
            ],
            "text/plain": [
              "        userId  count  average\n",
              "0           57     15      5.0\n",
              "1          315     15      5.0\n",
              "2          464     17      5.0\n",
              "3          550     15      5.0\n",
              "4          980      8      5.0\n",
              "...        ...    ...      ...\n",
              "256102  236749     15      0.5\n",
              "256103  239335     16      0.5\n",
              "256104  240352      9      0.5\n",
              "256105  245398     20      0.5\n",
              "256106  269902     20      0.5\n",
              "\n",
              "[256107 rows x 3 columns]"
            ]
          },
          "metadata": {
            "tags": []
          },
          "execution_count": 71
        }
      ]
    },
    {
      "cell_type": "markdown",
      "metadata": {
        "id": "pYyODOgChJ2P",
        "colab_type": "text"
      },
      "source": [
        "Having observed this distribution, there are definitely some very positive users and some very negative users. But in general, most users give around a 3.6 rating, making the distribution of ratings pretty close to normal with the peak at 3.6. Knowing this, the users in general are pretty nice."
      ]
    },
    {
      "cell_type": "markdown",
      "metadata": {
        "id": "z2MqLzeNHDzn",
        "colab_type": "text"
      },
      "source": [
        "#### Prepping data for Machine Learning"
      ]
    },
    {
      "cell_type": "markdown",
      "metadata": {
        "id": "J4tal7WQkkKz",
        "colab_type": "text"
      },
      "source": [
        "#### Model 1: K Nearest Neighbors\n",
        "\n",
        "The purpose of this model is to find similar movies to a movie that a user has enjoyed. By using K nearest neighbors, I can find the nearest neighbors to the movie that the user enjoyed and output these movies as similar. This model works because, in theory, the closer two movies are in dimensional space, the more similar in characterisitcs these two movies are."
      ]
    },
    {
      "cell_type": "markdown",
      "metadata": {
        "id": "SWxxsAhZjPFN",
        "colab_type": "text"
      },
      "source": [
        "First we will dive into creating clusters for movies and recommending based on this. To set up, we drop columns, merge any features we want and also create one-hot encodings for the categorical variables that shouldn't be treated numerically, like genre. "
      ]
    },
    {
      "cell_type": "markdown",
      "metadata": {
        "id": "Iq2ql1ooja-g",
        "colab_type": "text"
      },
      "source": [
        "Additionally, I thought the including a little bit of data from the production of the movie could be useful for recommendations. Because of this, I included features like production company, and also director (obtained from the credits.csv data). "
      ]
    },
    {
      "cell_type": "code",
      "metadata": {
        "id": "-eBgPDu-G_En",
        "colab_type": "code",
        "colab": {}
      },
      "source": [
        "credits_df = pd.read_csv('credits.csv', low_memory=False, index_col = 'id')\n",
        "credits_df = credits_df.replace({'\\'': '\"'}, regex=True)\n",
        "credits_df.head()"
      ],
      "execution_count": 0,
      "outputs": []
    },
    {
      "cell_type": "code",
      "metadata": {
        "id": "QzS_Y0bBxTvG",
        "colab_type": "code",
        "outputId": "61339aa4-60ea-43ee-9ee3-5f282a0f7965",
        "colab": {
          "base_uri": "https://localhost:8080/",
          "height": 253
        }
      },
      "source": [
        "clustering_df = movies_df.copy(deep = True)\n",
        "\n",
        "clustering_df['drama'] = clustering_df['genres'].apply(lambda x : 1 if 'Drama' in x else 0)\n",
        "clustering_df['comedy'] = clustering_df['genres'].apply(lambda x : 1 if 'Comedy' in x else 0)\n",
        "clustering_df['thriller'] = clustering_df['genres'].apply(lambda x : 1 if 'Thriller' in x else 0)\n",
        "clustering_df['action'] = clustering_df['genres'].apply(lambda x : 1 if 'Action' in x else 0)\n",
        "clustering_df['adventure'] = clustering_df['genres'].apply(lambda x : 1 if 'Adventure' in x else 0)\n",
        "\n",
        "def company(x):\n",
        "    try:\n",
        "        return json.loads(x)[0]['id']\n",
        "    except:\n",
        "        return -1\n",
        "\n",
        "clustering_df['production_companies'] = clustering_df['production_companies'].apply(company)\n",
        "\n",
        "clustering_df = clustering_df.drop(columns=['homepage', 'genres', 'imdb_id', 'original_language', 'original_title', \n",
        "                            'overview', 'poster_path', 'status', 'tagline', 'title', 'video', 'belongs_to_collection',\n",
        "                            'production_countries', 'spoken_languages','release_date'\n",
        "                            ])\n",
        "clustering_df = pd.get_dummies(clustering_df, prefix = ['production_companies'], columns=['production_companies'])\n",
        "clustering_df.head()"
      ],
      "execution_count": 0,
      "outputs": [
        {
          "output_type": "execute_result",
          "data": {
            "text/html": [
              "<div>\n",
              "<style scoped>\n",
              "    .dataframe tbody tr th:only-of-type {\n",
              "        vertical-align: middle;\n",
              "    }\n",
              "\n",
              "    .dataframe tbody tr th {\n",
              "        vertical-align: top;\n",
              "    }\n",
              "\n",
              "    .dataframe thead th {\n",
              "        text-align: right;\n",
              "    }\n",
              "</style>\n",
              "<table border=\"1\" class=\"dataframe\">\n",
              "  <thead>\n",
              "    <tr style=\"text-align: right;\">\n",
              "      <th></th>\n",
              "      <th>index</th>\n",
              "      <th>adult</th>\n",
              "      <th>budget</th>\n",
              "      <th>id</th>\n",
              "      <th>popularity</th>\n",
              "      <th>revenue</th>\n",
              "      <th>runtime</th>\n",
              "      <th>vote_average</th>\n",
              "      <th>vote_count</th>\n",
              "      <th>drama</th>\n",
              "      <th>comedy</th>\n",
              "      <th>thriller</th>\n",
              "      <th>action</th>\n",
              "      <th>adventure</th>\n",
              "      <th>production_companies_-1</th>\n",
              "      <th>production_companies_1</th>\n",
              "      <th>production_companies_2</th>\n",
              "      <th>production_companies_3</th>\n",
              "      <th>production_companies_4</th>\n",
              "      <th>production_companies_5</th>\n",
              "      <th>production_companies_6</th>\n",
              "      <th>production_companies_7</th>\n",
              "      <th>production_companies_8</th>\n",
              "      <th>production_companies_9</th>\n",
              "      <th>production_companies_11</th>\n",
              "      <th>production_companies_12</th>\n",
              "      <th>production_companies_13</th>\n",
              "      <th>production_companies_14</th>\n",
              "      <th>production_companies_15</th>\n",
              "      <th>production_companies_16</th>\n",
              "      <th>production_companies_17</th>\n",
              "      <th>production_companies_18</th>\n",
              "      <th>production_companies_23</th>\n",
              "      <th>production_companies_24</th>\n",
              "      <th>production_companies_25</th>\n",
              "      <th>production_companies_27</th>\n",
              "      <th>production_companies_28</th>\n",
              "      <th>production_companies_29</th>\n",
              "      <th>production_companies_32</th>\n",
              "      <th>production_companies_33</th>\n",
              "      <th>...</th>\n",
              "      <th>production_companies_68257</th>\n",
              "      <th>production_companies_68384</th>\n",
              "      <th>production_companies_68620</th>\n",
              "      <th>production_companies_68860</th>\n",
              "      <th>production_companies_69112</th>\n",
              "      <th>production_companies_69791</th>\n",
              "      <th>production_companies_72023</th>\n",
              "      <th>production_companies_72184</th>\n",
              "      <th>production_companies_72926</th>\n",
              "      <th>production_companies_73436</th>\n",
              "      <th>production_companies_73571</th>\n",
              "      <th>production_companies_74116</th>\n",
              "      <th>production_companies_74361</th>\n",
              "      <th>production_companies_74807</th>\n",
              "      <th>production_companies_74910</th>\n",
              "      <th>production_companies_75277</th>\n",
              "      <th>production_companies_76460</th>\n",
              "      <th>production_companies_76634</th>\n",
              "      <th>production_companies_77019</th>\n",
              "      <th>production_companies_77471</th>\n",
              "      <th>production_companies_77970</th>\n",
              "      <th>production_companies_78370</th>\n",
              "      <th>production_companies_78688</th>\n",
              "      <th>production_companies_79986</th>\n",
              "      <th>production_companies_80514</th>\n",
              "      <th>production_companies_81142</th>\n",
              "      <th>production_companies_81175</th>\n",
              "      <th>production_companies_81254</th>\n",
              "      <th>production_companies_84797</th>\n",
              "      <th>production_companies_84803</th>\n",
              "      <th>production_companies_85028</th>\n",
              "      <th>production_companies_85627</th>\n",
              "      <th>production_companies_85869</th>\n",
              "      <th>production_companies_86256</th>\n",
              "      <th>production_companies_87426</th>\n",
              "      <th>production_companies_89312</th>\n",
              "      <th>production_companies_91244</th>\n",
              "      <th>production_companies_91689</th>\n",
              "      <th>production_companies_93065</th>\n",
              "      <th>production_companies_93224</th>\n",
              "    </tr>\n",
              "  </thead>\n",
              "  <tbody>\n",
              "    <tr>\n",
              "      <th>0</th>\n",
              "      <td>0</td>\n",
              "      <td>True</td>\n",
              "      <td>30000000</td>\n",
              "      <td>862</td>\n",
              "      <td>21.946943</td>\n",
              "      <td>373554033.0</td>\n",
              "      <td>81.0</td>\n",
              "      <td>7.7</td>\n",
              "      <td>5415.0</td>\n",
              "      <td>0</td>\n",
              "      <td>1</td>\n",
              "      <td>0</td>\n",
              "      <td>0</td>\n",
              "      <td>0</td>\n",
              "      <td>0</td>\n",
              "      <td>0</td>\n",
              "      <td>0</td>\n",
              "      <td>1</td>\n",
              "      <td>0</td>\n",
              "      <td>0</td>\n",
              "      <td>0</td>\n",
              "      <td>0</td>\n",
              "      <td>0</td>\n",
              "      <td>0</td>\n",
              "      <td>0</td>\n",
              "      <td>0</td>\n",
              "      <td>0</td>\n",
              "      <td>0</td>\n",
              "      <td>0</td>\n",
              "      <td>0</td>\n",
              "      <td>0</td>\n",
              "      <td>0</td>\n",
              "      <td>0</td>\n",
              "      <td>0</td>\n",
              "      <td>0</td>\n",
              "      <td>0</td>\n",
              "      <td>0</td>\n",
              "      <td>0</td>\n",
              "      <td>0</td>\n",
              "      <td>0</td>\n",
              "      <td>...</td>\n",
              "      <td>0</td>\n",
              "      <td>0</td>\n",
              "      <td>0</td>\n",
              "      <td>0</td>\n",
              "      <td>0</td>\n",
              "      <td>0</td>\n",
              "      <td>0</td>\n",
              "      <td>0</td>\n",
              "      <td>0</td>\n",
              "      <td>0</td>\n",
              "      <td>0</td>\n",
              "      <td>0</td>\n",
              "      <td>0</td>\n",
              "      <td>0</td>\n",
              "      <td>0</td>\n",
              "      <td>0</td>\n",
              "      <td>0</td>\n",
              "      <td>0</td>\n",
              "      <td>0</td>\n",
              "      <td>0</td>\n",
              "      <td>0</td>\n",
              "      <td>0</td>\n",
              "      <td>0</td>\n",
              "      <td>0</td>\n",
              "      <td>0</td>\n",
              "      <td>0</td>\n",
              "      <td>0</td>\n",
              "      <td>0</td>\n",
              "      <td>0</td>\n",
              "      <td>0</td>\n",
              "      <td>0</td>\n",
              "      <td>0</td>\n",
              "      <td>0</td>\n",
              "      <td>0</td>\n",
              "      <td>0</td>\n",
              "      <td>0</td>\n",
              "      <td>0</td>\n",
              "      <td>0</td>\n",
              "      <td>0</td>\n",
              "      <td>0</td>\n",
              "    </tr>\n",
              "    <tr>\n",
              "      <th>1</th>\n",
              "      <td>1</td>\n",
              "      <td>True</td>\n",
              "      <td>65000000</td>\n",
              "      <td>8844</td>\n",
              "      <td>17.015539</td>\n",
              "      <td>262797249.0</td>\n",
              "      <td>104.0</td>\n",
              "      <td>6.9</td>\n",
              "      <td>2413.0</td>\n",
              "      <td>0</td>\n",
              "      <td>0</td>\n",
              "      <td>0</td>\n",
              "      <td>0</td>\n",
              "      <td>1</td>\n",
              "      <td>0</td>\n",
              "      <td>0</td>\n",
              "      <td>0</td>\n",
              "      <td>0</td>\n",
              "      <td>0</td>\n",
              "      <td>0</td>\n",
              "      <td>0</td>\n",
              "      <td>0</td>\n",
              "      <td>0</td>\n",
              "      <td>0</td>\n",
              "      <td>0</td>\n",
              "      <td>0</td>\n",
              "      <td>0</td>\n",
              "      <td>0</td>\n",
              "      <td>0</td>\n",
              "      <td>0</td>\n",
              "      <td>0</td>\n",
              "      <td>0</td>\n",
              "      <td>0</td>\n",
              "      <td>0</td>\n",
              "      <td>0</td>\n",
              "      <td>0</td>\n",
              "      <td>0</td>\n",
              "      <td>0</td>\n",
              "      <td>0</td>\n",
              "      <td>0</td>\n",
              "      <td>...</td>\n",
              "      <td>0</td>\n",
              "      <td>0</td>\n",
              "      <td>0</td>\n",
              "      <td>0</td>\n",
              "      <td>0</td>\n",
              "      <td>0</td>\n",
              "      <td>0</td>\n",
              "      <td>0</td>\n",
              "      <td>0</td>\n",
              "      <td>0</td>\n",
              "      <td>0</td>\n",
              "      <td>0</td>\n",
              "      <td>0</td>\n",
              "      <td>0</td>\n",
              "      <td>0</td>\n",
              "      <td>0</td>\n",
              "      <td>0</td>\n",
              "      <td>0</td>\n",
              "      <td>0</td>\n",
              "      <td>0</td>\n",
              "      <td>0</td>\n",
              "      <td>0</td>\n",
              "      <td>0</td>\n",
              "      <td>0</td>\n",
              "      <td>0</td>\n",
              "      <td>0</td>\n",
              "      <td>0</td>\n",
              "      <td>0</td>\n",
              "      <td>0</td>\n",
              "      <td>0</td>\n",
              "      <td>0</td>\n",
              "      <td>0</td>\n",
              "      <td>0</td>\n",
              "      <td>0</td>\n",
              "      <td>0</td>\n",
              "      <td>0</td>\n",
              "      <td>0</td>\n",
              "      <td>0</td>\n",
              "      <td>0</td>\n",
              "      <td>0</td>\n",
              "    </tr>\n",
              "    <tr>\n",
              "      <th>2</th>\n",
              "      <td>3</td>\n",
              "      <td>True</td>\n",
              "      <td>16000000</td>\n",
              "      <td>31357</td>\n",
              "      <td>3.859495</td>\n",
              "      <td>81452156.0</td>\n",
              "      <td>127.0</td>\n",
              "      <td>6.1</td>\n",
              "      <td>34.0</td>\n",
              "      <td>1</td>\n",
              "      <td>1</td>\n",
              "      <td>0</td>\n",
              "      <td>0</td>\n",
              "      <td>0</td>\n",
              "      <td>0</td>\n",
              "      <td>0</td>\n",
              "      <td>0</td>\n",
              "      <td>0</td>\n",
              "      <td>0</td>\n",
              "      <td>0</td>\n",
              "      <td>0</td>\n",
              "      <td>0</td>\n",
              "      <td>0</td>\n",
              "      <td>0</td>\n",
              "      <td>0</td>\n",
              "      <td>0</td>\n",
              "      <td>0</td>\n",
              "      <td>0</td>\n",
              "      <td>0</td>\n",
              "      <td>0</td>\n",
              "      <td>0</td>\n",
              "      <td>0</td>\n",
              "      <td>0</td>\n",
              "      <td>0</td>\n",
              "      <td>0</td>\n",
              "      <td>0</td>\n",
              "      <td>0</td>\n",
              "      <td>0</td>\n",
              "      <td>0</td>\n",
              "      <td>0</td>\n",
              "      <td>...</td>\n",
              "      <td>0</td>\n",
              "      <td>0</td>\n",
              "      <td>0</td>\n",
              "      <td>0</td>\n",
              "      <td>0</td>\n",
              "      <td>0</td>\n",
              "      <td>0</td>\n",
              "      <td>0</td>\n",
              "      <td>0</td>\n",
              "      <td>0</td>\n",
              "      <td>0</td>\n",
              "      <td>0</td>\n",
              "      <td>0</td>\n",
              "      <td>0</td>\n",
              "      <td>0</td>\n",
              "      <td>0</td>\n",
              "      <td>0</td>\n",
              "      <td>0</td>\n",
              "      <td>0</td>\n",
              "      <td>0</td>\n",
              "      <td>0</td>\n",
              "      <td>0</td>\n",
              "      <td>0</td>\n",
              "      <td>0</td>\n",
              "      <td>0</td>\n",
              "      <td>0</td>\n",
              "      <td>0</td>\n",
              "      <td>0</td>\n",
              "      <td>0</td>\n",
              "      <td>0</td>\n",
              "      <td>0</td>\n",
              "      <td>0</td>\n",
              "      <td>0</td>\n",
              "      <td>0</td>\n",
              "      <td>0</td>\n",
              "      <td>0</td>\n",
              "      <td>0</td>\n",
              "      <td>0</td>\n",
              "      <td>0</td>\n",
              "      <td>0</td>\n",
              "    </tr>\n",
              "    <tr>\n",
              "      <th>3</th>\n",
              "      <td>5</td>\n",
              "      <td>True</td>\n",
              "      <td>60000000</td>\n",
              "      <td>949</td>\n",
              "      <td>17.924927</td>\n",
              "      <td>187436818.0</td>\n",
              "      <td>170.0</td>\n",
              "      <td>7.7</td>\n",
              "      <td>1886.0</td>\n",
              "      <td>1</td>\n",
              "      <td>0</td>\n",
              "      <td>1</td>\n",
              "      <td>1</td>\n",
              "      <td>0</td>\n",
              "      <td>0</td>\n",
              "      <td>0</td>\n",
              "      <td>0</td>\n",
              "      <td>0</td>\n",
              "      <td>0</td>\n",
              "      <td>0</td>\n",
              "      <td>0</td>\n",
              "      <td>0</td>\n",
              "      <td>0</td>\n",
              "      <td>0</td>\n",
              "      <td>0</td>\n",
              "      <td>0</td>\n",
              "      <td>0</td>\n",
              "      <td>0</td>\n",
              "      <td>0</td>\n",
              "      <td>0</td>\n",
              "      <td>0</td>\n",
              "      <td>0</td>\n",
              "      <td>0</td>\n",
              "      <td>0</td>\n",
              "      <td>0</td>\n",
              "      <td>0</td>\n",
              "      <td>0</td>\n",
              "      <td>0</td>\n",
              "      <td>0</td>\n",
              "      <td>0</td>\n",
              "      <td>...</td>\n",
              "      <td>0</td>\n",
              "      <td>0</td>\n",
              "      <td>0</td>\n",
              "      <td>0</td>\n",
              "      <td>0</td>\n",
              "      <td>0</td>\n",
              "      <td>0</td>\n",
              "      <td>0</td>\n",
              "      <td>0</td>\n",
              "      <td>0</td>\n",
              "      <td>0</td>\n",
              "      <td>0</td>\n",
              "      <td>0</td>\n",
              "      <td>0</td>\n",
              "      <td>0</td>\n",
              "      <td>0</td>\n",
              "      <td>0</td>\n",
              "      <td>0</td>\n",
              "      <td>0</td>\n",
              "      <td>0</td>\n",
              "      <td>0</td>\n",
              "      <td>0</td>\n",
              "      <td>0</td>\n",
              "      <td>0</td>\n",
              "      <td>0</td>\n",
              "      <td>0</td>\n",
              "      <td>0</td>\n",
              "      <td>0</td>\n",
              "      <td>0</td>\n",
              "      <td>0</td>\n",
              "      <td>0</td>\n",
              "      <td>0</td>\n",
              "      <td>0</td>\n",
              "      <td>0</td>\n",
              "      <td>0</td>\n",
              "      <td>0</td>\n",
              "      <td>0</td>\n",
              "      <td>0</td>\n",
              "      <td>0</td>\n",
              "      <td>0</td>\n",
              "    </tr>\n",
              "    <tr>\n",
              "      <th>4</th>\n",
              "      <td>6</td>\n",
              "      <td>True</td>\n",
              "      <td>58000000</td>\n",
              "      <td>11860</td>\n",
              "      <td>6.677277</td>\n",
              "      <td>0.0</td>\n",
              "      <td>127.0</td>\n",
              "      <td>6.2</td>\n",
              "      <td>141.0</td>\n",
              "      <td>0</td>\n",
              "      <td>1</td>\n",
              "      <td>0</td>\n",
              "      <td>0</td>\n",
              "      <td>0</td>\n",
              "      <td>0</td>\n",
              "      <td>0</td>\n",
              "      <td>0</td>\n",
              "      <td>0</td>\n",
              "      <td>1</td>\n",
              "      <td>0</td>\n",
              "      <td>0</td>\n",
              "      <td>0</td>\n",
              "      <td>0</td>\n",
              "      <td>0</td>\n",
              "      <td>0</td>\n",
              "      <td>0</td>\n",
              "      <td>0</td>\n",
              "      <td>0</td>\n",
              "      <td>0</td>\n",
              "      <td>0</td>\n",
              "      <td>0</td>\n",
              "      <td>0</td>\n",
              "      <td>0</td>\n",
              "      <td>0</td>\n",
              "      <td>0</td>\n",
              "      <td>0</td>\n",
              "      <td>0</td>\n",
              "      <td>0</td>\n",
              "      <td>0</td>\n",
              "      <td>0</td>\n",
              "      <td>...</td>\n",
              "      <td>0</td>\n",
              "      <td>0</td>\n",
              "      <td>0</td>\n",
              "      <td>0</td>\n",
              "      <td>0</td>\n",
              "      <td>0</td>\n",
              "      <td>0</td>\n",
              "      <td>0</td>\n",
              "      <td>0</td>\n",
              "      <td>0</td>\n",
              "      <td>0</td>\n",
              "      <td>0</td>\n",
              "      <td>0</td>\n",
              "      <td>0</td>\n",
              "      <td>0</td>\n",
              "      <td>0</td>\n",
              "      <td>0</td>\n",
              "      <td>0</td>\n",
              "      <td>0</td>\n",
              "      <td>0</td>\n",
              "      <td>0</td>\n",
              "      <td>0</td>\n",
              "      <td>0</td>\n",
              "      <td>0</td>\n",
              "      <td>0</td>\n",
              "      <td>0</td>\n",
              "      <td>0</td>\n",
              "      <td>0</td>\n",
              "      <td>0</td>\n",
              "      <td>0</td>\n",
              "      <td>0</td>\n",
              "      <td>0</td>\n",
              "      <td>0</td>\n",
              "      <td>0</td>\n",
              "      <td>0</td>\n",
              "      <td>0</td>\n",
              "      <td>0</td>\n",
              "      <td>0</td>\n",
              "      <td>0</td>\n",
              "      <td>0</td>\n",
              "    </tr>\n",
              "  </tbody>\n",
              "</table>\n",
              "<p>5 rows × 1894 columns</p>\n",
              "</div>"
            ],
            "text/plain": [
              "   index  adult  ...  production_companies_93065 production_companies_93224\n",
              "0      0   True  ...                           0                          0\n",
              "1      1   True  ...                           0                          0\n",
              "2      3   True  ...                           0                          0\n",
              "3      5   True  ...                           0                          0\n",
              "4      6   True  ...                           0                          0\n",
              "\n",
              "[5 rows x 1894 columns]"
            ]
          },
          "metadata": {
            "tags": []
          },
          "execution_count": 110
        }
      ]
    },
    {
      "cell_type": "code",
      "metadata": {
        "id": "VK1lrAMTCwNl",
        "colab_type": "code",
        "colab": {}
      },
      "source": [
        "q = '''\n",
        "SELECT clustering_df.*, credits_df.crew\n",
        "FROM clustering_df, credits_df\n",
        "WHERE clustering_df.id = credits_df.id\n",
        "'''\n",
        "\n",
        "clustering_df = sqldf(q)"
      ],
      "execution_count": 0,
      "outputs": []
    },
    {
      "cell_type": "code",
      "metadata": {
        "id": "QPUgUVruGMu1",
        "colab_type": "code",
        "colab": {}
      },
      "source": [
        "def director(x):\n",
        "  x = x.split('},')\n",
        "  for chunk in x:\n",
        "    if 'Director' in chunk:\n",
        "      group = chunk.split(',')\n",
        "      for g in group:\n",
        "        if '\"id\"' in g:\n",
        "          index = g.find('id: ')\n",
        "          return(g[index+8:])\n",
        "\n",
        "clustering_df['director'] = clustering_df['crew'].apply(director)"
      ],
      "execution_count": 0,
      "outputs": []
    },
    {
      "cell_type": "code",
      "metadata": {
        "id": "6IEpplcJJkfU",
        "colab_type": "code",
        "outputId": "0c4a22e8-9f32-4395-8bd5-4d57e3c1d704",
        "colab": {
          "base_uri": "https://localhost:8080/",
          "height": 253
        }
      },
      "source": [
        "clustering_df = clustering_df.drop(columns=['crew', 'id'])\n",
        "clustering_df = pd.get_dummies(clustering_df, prefix = ['director'], columns=['director'])\n",
        "clustering_df.head()"
      ],
      "execution_count": 0,
      "outputs": [
        {
          "output_type": "execute_result",
          "data": {
            "text/html": [
              "<div>\n",
              "<style scoped>\n",
              "    .dataframe tbody tr th:only-of-type {\n",
              "        vertical-align: middle;\n",
              "    }\n",
              "\n",
              "    .dataframe tbody tr th {\n",
              "        vertical-align: top;\n",
              "    }\n",
              "\n",
              "    .dataframe thead th {\n",
              "        text-align: right;\n",
              "    }\n",
              "</style>\n",
              "<table border=\"1\" class=\"dataframe\">\n",
              "  <thead>\n",
              "    <tr style=\"text-align: right;\">\n",
              "      <th></th>\n",
              "      <th>index</th>\n",
              "      <th>adult</th>\n",
              "      <th>budget</th>\n",
              "      <th>popularity</th>\n",
              "      <th>revenue</th>\n",
              "      <th>runtime</th>\n",
              "      <th>vote_average</th>\n",
              "      <th>vote_count</th>\n",
              "      <th>drama</th>\n",
              "      <th>comedy</th>\n",
              "      <th>thriller</th>\n",
              "      <th>action</th>\n",
              "      <th>adventure</th>\n",
              "      <th>production_companies_-1</th>\n",
              "      <th>production_companies_1</th>\n",
              "      <th>production_companies_2</th>\n",
              "      <th>production_companies_3</th>\n",
              "      <th>production_companies_4</th>\n",
              "      <th>production_companies_5</th>\n",
              "      <th>production_companies_6</th>\n",
              "      <th>production_companies_7</th>\n",
              "      <th>production_companies_8</th>\n",
              "      <th>production_companies_9</th>\n",
              "      <th>production_companies_11</th>\n",
              "      <th>production_companies_12</th>\n",
              "      <th>production_companies_13</th>\n",
              "      <th>production_companies_14</th>\n",
              "      <th>production_companies_15</th>\n",
              "      <th>production_companies_16</th>\n",
              "      <th>production_companies_17</th>\n",
              "      <th>production_companies_18</th>\n",
              "      <th>production_companies_23</th>\n",
              "      <th>production_companies_24</th>\n",
              "      <th>production_companies_25</th>\n",
              "      <th>production_companies_27</th>\n",
              "      <th>production_companies_28</th>\n",
              "      <th>production_companies_29</th>\n",
              "      <th>production_companies_32</th>\n",
              "      <th>production_companies_33</th>\n",
              "      <th>production_companies_34</th>\n",
              "      <th>...</th>\n",
              "      <th>director_96691</th>\n",
              "      <th>director_967417</th>\n",
              "      <th>director_967767</th>\n",
              "      <th>director_967792</th>\n",
              "      <th>director_96813</th>\n",
              "      <th>director_96854</th>\n",
              "      <th>director_970129</th>\n",
              "      <th>director_97026</th>\n",
              "      <th>director_97131</th>\n",
              "      <th>director_97296</th>\n",
              "      <th>director_974</th>\n",
              "      <th>director_97555</th>\n",
              "      <th>director_97618</th>\n",
              "      <th>director_97710</th>\n",
              "      <th>director_97755</th>\n",
              "      <th>director_9789</th>\n",
              "      <th>director_97966</th>\n",
              "      <th>director_98132</th>\n",
              "      <th>director_9819</th>\n",
              "      <th>director_9820</th>\n",
              "      <th>director_9822</th>\n",
              "      <th>director_983909</th>\n",
              "      <th>director_98534</th>\n",
              "      <th>director_9855</th>\n",
              "      <th>director_98631</th>\n",
              "      <th>director_9867</th>\n",
              "      <th>director_9868</th>\n",
              "      <th>director_98750</th>\n",
              "      <th>director_9894</th>\n",
              "      <th>director_989512</th>\n",
              "      <th>director_9915</th>\n",
              "      <th>director_991868</th>\n",
              "      <th>director_99313</th>\n",
              "      <th>director_995407</th>\n",
              "      <th>director_995462</th>\n",
              "      <th>director_9965</th>\n",
              "      <th>director_997</th>\n",
              "      <th>director_998507</th>\n",
              "      <th>director_99916</th>\n",
              "      <th>director_999760</th>\n",
              "    </tr>\n",
              "  </thead>\n",
              "  <tbody>\n",
              "    <tr>\n",
              "      <th>0</th>\n",
              "      <td>0</td>\n",
              "      <td>1</td>\n",
              "      <td>30000000</td>\n",
              "      <td>21.946943</td>\n",
              "      <td>373554033.0</td>\n",
              "      <td>81.0</td>\n",
              "      <td>7.7</td>\n",
              "      <td>5415.0</td>\n",
              "      <td>0</td>\n",
              "      <td>1</td>\n",
              "      <td>0</td>\n",
              "      <td>0</td>\n",
              "      <td>0</td>\n",
              "      <td>0</td>\n",
              "      <td>0</td>\n",
              "      <td>0</td>\n",
              "      <td>1</td>\n",
              "      <td>0</td>\n",
              "      <td>0</td>\n",
              "      <td>0</td>\n",
              "      <td>0</td>\n",
              "      <td>0</td>\n",
              "      <td>0</td>\n",
              "      <td>0</td>\n",
              "      <td>0</td>\n",
              "      <td>0</td>\n",
              "      <td>0</td>\n",
              "      <td>0</td>\n",
              "      <td>0</td>\n",
              "      <td>0</td>\n",
              "      <td>0</td>\n",
              "      <td>0</td>\n",
              "      <td>0</td>\n",
              "      <td>0</td>\n",
              "      <td>0</td>\n",
              "      <td>0</td>\n",
              "      <td>0</td>\n",
              "      <td>0</td>\n",
              "      <td>0</td>\n",
              "      <td>0</td>\n",
              "      <td>...</td>\n",
              "      <td>0</td>\n",
              "      <td>0</td>\n",
              "      <td>0</td>\n",
              "      <td>0</td>\n",
              "      <td>0</td>\n",
              "      <td>0</td>\n",
              "      <td>0</td>\n",
              "      <td>0</td>\n",
              "      <td>0</td>\n",
              "      <td>0</td>\n",
              "      <td>0</td>\n",
              "      <td>0</td>\n",
              "      <td>0</td>\n",
              "      <td>0</td>\n",
              "      <td>0</td>\n",
              "      <td>0</td>\n",
              "      <td>0</td>\n",
              "      <td>0</td>\n",
              "      <td>0</td>\n",
              "      <td>0</td>\n",
              "      <td>0</td>\n",
              "      <td>0</td>\n",
              "      <td>0</td>\n",
              "      <td>0</td>\n",
              "      <td>0</td>\n",
              "      <td>0</td>\n",
              "      <td>0</td>\n",
              "      <td>0</td>\n",
              "      <td>0</td>\n",
              "      <td>0</td>\n",
              "      <td>0</td>\n",
              "      <td>0</td>\n",
              "      <td>0</td>\n",
              "      <td>0</td>\n",
              "      <td>0</td>\n",
              "      <td>0</td>\n",
              "      <td>0</td>\n",
              "      <td>0</td>\n",
              "      <td>0</td>\n",
              "      <td>0</td>\n",
              "    </tr>\n",
              "    <tr>\n",
              "      <th>1</th>\n",
              "      <td>1</td>\n",
              "      <td>1</td>\n",
              "      <td>65000000</td>\n",
              "      <td>17.015539</td>\n",
              "      <td>262797249.0</td>\n",
              "      <td>104.0</td>\n",
              "      <td>6.9</td>\n",
              "      <td>2413.0</td>\n",
              "      <td>0</td>\n",
              "      <td>0</td>\n",
              "      <td>0</td>\n",
              "      <td>0</td>\n",
              "      <td>1</td>\n",
              "      <td>0</td>\n",
              "      <td>0</td>\n",
              "      <td>0</td>\n",
              "      <td>0</td>\n",
              "      <td>0</td>\n",
              "      <td>0</td>\n",
              "      <td>0</td>\n",
              "      <td>0</td>\n",
              "      <td>0</td>\n",
              "      <td>0</td>\n",
              "      <td>0</td>\n",
              "      <td>0</td>\n",
              "      <td>0</td>\n",
              "      <td>0</td>\n",
              "      <td>0</td>\n",
              "      <td>0</td>\n",
              "      <td>0</td>\n",
              "      <td>0</td>\n",
              "      <td>0</td>\n",
              "      <td>0</td>\n",
              "      <td>0</td>\n",
              "      <td>0</td>\n",
              "      <td>0</td>\n",
              "      <td>0</td>\n",
              "      <td>0</td>\n",
              "      <td>0</td>\n",
              "      <td>0</td>\n",
              "      <td>...</td>\n",
              "      <td>0</td>\n",
              "      <td>0</td>\n",
              "      <td>0</td>\n",
              "      <td>0</td>\n",
              "      <td>0</td>\n",
              "      <td>0</td>\n",
              "      <td>0</td>\n",
              "      <td>0</td>\n",
              "      <td>0</td>\n",
              "      <td>0</td>\n",
              "      <td>0</td>\n",
              "      <td>0</td>\n",
              "      <td>0</td>\n",
              "      <td>0</td>\n",
              "      <td>0</td>\n",
              "      <td>0</td>\n",
              "      <td>0</td>\n",
              "      <td>0</td>\n",
              "      <td>0</td>\n",
              "      <td>0</td>\n",
              "      <td>0</td>\n",
              "      <td>0</td>\n",
              "      <td>0</td>\n",
              "      <td>0</td>\n",
              "      <td>0</td>\n",
              "      <td>0</td>\n",
              "      <td>0</td>\n",
              "      <td>0</td>\n",
              "      <td>0</td>\n",
              "      <td>0</td>\n",
              "      <td>0</td>\n",
              "      <td>0</td>\n",
              "      <td>0</td>\n",
              "      <td>0</td>\n",
              "      <td>0</td>\n",
              "      <td>0</td>\n",
              "      <td>0</td>\n",
              "      <td>0</td>\n",
              "      <td>0</td>\n",
              "      <td>0</td>\n",
              "    </tr>\n",
              "    <tr>\n",
              "      <th>2</th>\n",
              "      <td>3</td>\n",
              "      <td>1</td>\n",
              "      <td>16000000</td>\n",
              "      <td>3.859495</td>\n",
              "      <td>81452156.0</td>\n",
              "      <td>127.0</td>\n",
              "      <td>6.1</td>\n",
              "      <td>34.0</td>\n",
              "      <td>1</td>\n",
              "      <td>1</td>\n",
              "      <td>0</td>\n",
              "      <td>0</td>\n",
              "      <td>0</td>\n",
              "      <td>0</td>\n",
              "      <td>0</td>\n",
              "      <td>0</td>\n",
              "      <td>0</td>\n",
              "      <td>0</td>\n",
              "      <td>0</td>\n",
              "      <td>0</td>\n",
              "      <td>0</td>\n",
              "      <td>0</td>\n",
              "      <td>0</td>\n",
              "      <td>0</td>\n",
              "      <td>0</td>\n",
              "      <td>0</td>\n",
              "      <td>0</td>\n",
              "      <td>0</td>\n",
              "      <td>0</td>\n",
              "      <td>0</td>\n",
              "      <td>0</td>\n",
              "      <td>0</td>\n",
              "      <td>0</td>\n",
              "      <td>0</td>\n",
              "      <td>0</td>\n",
              "      <td>0</td>\n",
              "      <td>0</td>\n",
              "      <td>0</td>\n",
              "      <td>0</td>\n",
              "      <td>0</td>\n",
              "      <td>...</td>\n",
              "      <td>0</td>\n",
              "      <td>0</td>\n",
              "      <td>0</td>\n",
              "      <td>0</td>\n",
              "      <td>0</td>\n",
              "      <td>0</td>\n",
              "      <td>0</td>\n",
              "      <td>0</td>\n",
              "      <td>0</td>\n",
              "      <td>0</td>\n",
              "      <td>0</td>\n",
              "      <td>0</td>\n",
              "      <td>0</td>\n",
              "      <td>0</td>\n",
              "      <td>0</td>\n",
              "      <td>0</td>\n",
              "      <td>0</td>\n",
              "      <td>0</td>\n",
              "      <td>0</td>\n",
              "      <td>0</td>\n",
              "      <td>0</td>\n",
              "      <td>0</td>\n",
              "      <td>0</td>\n",
              "      <td>0</td>\n",
              "      <td>0</td>\n",
              "      <td>0</td>\n",
              "      <td>0</td>\n",
              "      <td>0</td>\n",
              "      <td>0</td>\n",
              "      <td>0</td>\n",
              "      <td>0</td>\n",
              "      <td>0</td>\n",
              "      <td>0</td>\n",
              "      <td>0</td>\n",
              "      <td>0</td>\n",
              "      <td>0</td>\n",
              "      <td>0</td>\n",
              "      <td>0</td>\n",
              "      <td>0</td>\n",
              "      <td>0</td>\n",
              "    </tr>\n",
              "    <tr>\n",
              "      <th>3</th>\n",
              "      <td>5</td>\n",
              "      <td>1</td>\n",
              "      <td>60000000</td>\n",
              "      <td>17.924927</td>\n",
              "      <td>187436818.0</td>\n",
              "      <td>170.0</td>\n",
              "      <td>7.7</td>\n",
              "      <td>1886.0</td>\n",
              "      <td>1</td>\n",
              "      <td>0</td>\n",
              "      <td>1</td>\n",
              "      <td>1</td>\n",
              "      <td>0</td>\n",
              "      <td>0</td>\n",
              "      <td>0</td>\n",
              "      <td>0</td>\n",
              "      <td>0</td>\n",
              "      <td>0</td>\n",
              "      <td>0</td>\n",
              "      <td>0</td>\n",
              "      <td>0</td>\n",
              "      <td>0</td>\n",
              "      <td>0</td>\n",
              "      <td>0</td>\n",
              "      <td>0</td>\n",
              "      <td>0</td>\n",
              "      <td>0</td>\n",
              "      <td>0</td>\n",
              "      <td>0</td>\n",
              "      <td>0</td>\n",
              "      <td>0</td>\n",
              "      <td>0</td>\n",
              "      <td>0</td>\n",
              "      <td>0</td>\n",
              "      <td>0</td>\n",
              "      <td>0</td>\n",
              "      <td>0</td>\n",
              "      <td>0</td>\n",
              "      <td>0</td>\n",
              "      <td>0</td>\n",
              "      <td>...</td>\n",
              "      <td>0</td>\n",
              "      <td>0</td>\n",
              "      <td>0</td>\n",
              "      <td>0</td>\n",
              "      <td>0</td>\n",
              "      <td>0</td>\n",
              "      <td>0</td>\n",
              "      <td>0</td>\n",
              "      <td>0</td>\n",
              "      <td>0</td>\n",
              "      <td>0</td>\n",
              "      <td>0</td>\n",
              "      <td>0</td>\n",
              "      <td>0</td>\n",
              "      <td>0</td>\n",
              "      <td>0</td>\n",
              "      <td>0</td>\n",
              "      <td>0</td>\n",
              "      <td>0</td>\n",
              "      <td>0</td>\n",
              "      <td>0</td>\n",
              "      <td>0</td>\n",
              "      <td>0</td>\n",
              "      <td>0</td>\n",
              "      <td>0</td>\n",
              "      <td>0</td>\n",
              "      <td>0</td>\n",
              "      <td>0</td>\n",
              "      <td>0</td>\n",
              "      <td>0</td>\n",
              "      <td>0</td>\n",
              "      <td>0</td>\n",
              "      <td>0</td>\n",
              "      <td>0</td>\n",
              "      <td>0</td>\n",
              "      <td>0</td>\n",
              "      <td>0</td>\n",
              "      <td>0</td>\n",
              "      <td>0</td>\n",
              "      <td>0</td>\n",
              "    </tr>\n",
              "    <tr>\n",
              "      <th>4</th>\n",
              "      <td>6</td>\n",
              "      <td>1</td>\n",
              "      <td>58000000</td>\n",
              "      <td>6.677277</td>\n",
              "      <td>0.0</td>\n",
              "      <td>127.0</td>\n",
              "      <td>6.2</td>\n",
              "      <td>141.0</td>\n",
              "      <td>0</td>\n",
              "      <td>1</td>\n",
              "      <td>0</td>\n",
              "      <td>0</td>\n",
              "      <td>0</td>\n",
              "      <td>0</td>\n",
              "      <td>0</td>\n",
              "      <td>0</td>\n",
              "      <td>0</td>\n",
              "      <td>1</td>\n",
              "      <td>0</td>\n",
              "      <td>0</td>\n",
              "      <td>0</td>\n",
              "      <td>0</td>\n",
              "      <td>0</td>\n",
              "      <td>0</td>\n",
              "      <td>0</td>\n",
              "      <td>0</td>\n",
              "      <td>0</td>\n",
              "      <td>0</td>\n",
              "      <td>0</td>\n",
              "      <td>0</td>\n",
              "      <td>0</td>\n",
              "      <td>0</td>\n",
              "      <td>0</td>\n",
              "      <td>0</td>\n",
              "      <td>0</td>\n",
              "      <td>0</td>\n",
              "      <td>0</td>\n",
              "      <td>0</td>\n",
              "      <td>0</td>\n",
              "      <td>0</td>\n",
              "      <td>...</td>\n",
              "      <td>0</td>\n",
              "      <td>0</td>\n",
              "      <td>0</td>\n",
              "      <td>0</td>\n",
              "      <td>0</td>\n",
              "      <td>0</td>\n",
              "      <td>0</td>\n",
              "      <td>0</td>\n",
              "      <td>0</td>\n",
              "      <td>0</td>\n",
              "      <td>0</td>\n",
              "      <td>0</td>\n",
              "      <td>0</td>\n",
              "      <td>0</td>\n",
              "      <td>0</td>\n",
              "      <td>0</td>\n",
              "      <td>0</td>\n",
              "      <td>0</td>\n",
              "      <td>0</td>\n",
              "      <td>0</td>\n",
              "      <td>0</td>\n",
              "      <td>0</td>\n",
              "      <td>0</td>\n",
              "      <td>0</td>\n",
              "      <td>0</td>\n",
              "      <td>0</td>\n",
              "      <td>0</td>\n",
              "      <td>0</td>\n",
              "      <td>0</td>\n",
              "      <td>0</td>\n",
              "      <td>0</td>\n",
              "      <td>0</td>\n",
              "      <td>0</td>\n",
              "      <td>0</td>\n",
              "      <td>0</td>\n",
              "      <td>0</td>\n",
              "      <td>0</td>\n",
              "      <td>0</td>\n",
              "      <td>0</td>\n",
              "      <td>0</td>\n",
              "    </tr>\n",
              "  </tbody>\n",
              "</table>\n",
              "<p>5 rows × 5007 columns</p>\n",
              "</div>"
            ],
            "text/plain": [
              "   index  adult    budget  ...  director_998507  director_99916  director_999760\n",
              "0      0      1  30000000  ...                0               0                0\n",
              "1      1      1  65000000  ...                0               0                0\n",
              "2      3      1  16000000  ...                0               0                0\n",
              "3      5      1  60000000  ...                0               0                0\n",
              "4      6      1  58000000  ...                0               0                0\n",
              "\n",
              "[5 rows x 5007 columns]"
            ]
          },
          "metadata": {
            "tags": []
          },
          "execution_count": 113
        }
      ]
    },
    {
      "cell_type": "markdown",
      "metadata": {
        "id": "mfAsLrxoj03k",
        "colab_type": "text"
      },
      "source": [
        "Now I use Principal component analysis (PCA) to reduce number of dimensions of the dataset. To do this, I first fit a pca model on my data and then plotted the explained_variance_ratio against the number of components to decide the number of components I should keep. PCA was extremely important because I had over 5000 columns due to all of the one hot encodings"
      ]
    },
    {
      "cell_type": "code",
      "metadata": {
        "id": "L3VPtM_LQzXF",
        "colab_type": "code",
        "outputId": "606512a3-39a4-4da7-fc94-42d38f73287f",
        "colab": {
          "base_uri": "https://localhost:8080/",
          "height": 265
        }
      },
      "source": [
        "import numpy as np\n",
        "from sklearn.decomposition import PCA\n",
        "from sklearn.preprocessing import StandardScaler\n",
        "\n",
        "clustering_df = StandardScaler().fit_transform(clustering_df.dropna())\n",
        "\n",
        "pca = PCA(n_components= 5006)\n",
        "pca.fit(clustering_df)\n",
        "pc_vs_variance = np.cumsum(pca.explained_variance_ratio_)\n",
        "plt.plot(pc_vs_variance)\n",
        "plt.show()"
      ],
      "execution_count": 0,
      "outputs": [
        {
          "output_type": "display_data",
          "data": {
            "image/png": "[encoded data removed]",
            "text/plain": [
              "<Figure size 432x288 with 1 Axes>"
            ]
          },
          "metadata": {
            "tags": [],
            "needs_background": "light"
          }
        }
      ]
    },
    {
      "cell_type": "markdown",
      "metadata": {
        "id": "gro0lxy5kQNj",
        "colab_type": "text"
      },
      "source": [
        "From the graph above, I decided around 3300 components is around ideal. So I fit and transformed my data using PCA, and built a K nearest neighbors model using scikit learn. I used k=10 because I just wanted to output 10 recommendations."
      ]
    },
    {
      "cell_type": "code",
      "metadata": {
        "id": "Yv9zhMEcWxv1",
        "colab_type": "code",
        "colab": {}
      },
      "source": [
        "pca = PCA(n_components= 3300)\n",
        "pca.fit(clustering_df)\n",
        "clustering_df = pca.fit_transform(clustering_df)"
      ],
      "execution_count": 0,
      "outputs": []
    },
    {
      "cell_type": "code",
      "metadata": {
        "id": "v76on7p-X7gn",
        "colab_type": "code",
        "colab": {}
      },
      "source": [
        "from sklearn.neighbors import NearestNeighbors\n",
        "model = NearestNeighbors(metric='cosine', n_neighbors=10)\n",
        "model.fit(clustering_df)\n",
        "distances, indices = model.kneighbors(clustering_df)"
      ],
      "execution_count": 0,
      "outputs": []
    },
    {
      "cell_type": "markdown",
      "metadata": {
        "id": "944wIibzlf6P",
        "colab_type": "text"
      },
      "source": [
        "After creating and fitting the model, I can now have access to the k nearest neighbors for each movie, making it simple to take in a movie name and output the k nearest neighbors."
      ]
    },
    {
      "cell_type": "code",
      "metadata": {
        "id": "2ckISJNVo4cd",
        "colab_type": "code",
        "colab": {}
      },
      "source": [
        "def recommend():\n",
        "  title = input('Enter movie title: ')\n",
        "\n",
        "  try:\n",
        "    movie_id = int(movies_df[movies_df[\"title\"]==title].index.tolist()[0])\n",
        "    print('Recommendations:')\n",
        "    for id in indices[movie_id][1:]:\n",
        "      try:\n",
        "        print(movies_df.iloc[id][\"title\"])\n",
        "      except:\n",
        "        continue\n",
        "  except:\n",
        "    print('No movie found')"
      ],
      "execution_count": 0,
      "outputs": []
    },
    {
      "cell_type": "markdown",
      "metadata": {
        "id": "4AJZZBmVloyU",
        "colab_type": "text"
      },
      "source": [
        "Below are a few runs of the recommendation algorithm. It takes in an input from the user which will be the movie title. Then it will produce 10 recommendations. Overall, the recommendations are ok. There is a good mix of accurate recommendations and inaccurate recommendations. This is because our data probably doesn't have enough impactful features to distinguish movies apart. Overall, the recommendations are still pretty useful and better than just randomly recommending movies."
      ]
    },
    {
      "cell_type": "code",
      "metadata": {
        "id": "pDXFVLQjqA9p",
        "colab_type": "code",
        "outputId": "9443eed8-0f50-4bce-8cf4-bcee555eaa3b",
        "colab": {
          "base_uri": "https://localhost:8080/",
          "height": 204
        }
      },
      "source": [
        "recommend()"
      ],
      "execution_count": 0,
      "outputs": [
        {
          "output_type": "stream",
          "text": [
            "Enter movie title: Beauty and the Beast\n",
            "Recommendations:\n",
            "The Hunchback of Notre Dame\n",
            "Dr. Dolittle 2\n",
            "The Reader\n",
            "Next Time I\"ll Aim for the Heart\n",
            "Lara Croft Tomb Raider: The Cradle of Life\n",
            "Joy Ride 2: Dead Ahead\n",
            "The Three Musketeers\n",
            "Marie Antoinette\n",
            "The Double Hour\n"
          ],
          "name": "stdout"
        }
      ]
    },
    {
      "cell_type": "code",
      "metadata": {
        "id": "yPSwM6hJry2n",
        "colab_type": "code",
        "outputId": "5c618a83-02f0-4c92-f2cc-ad661ee9fa50",
        "colab": {
          "base_uri": "https://localhost:8080/",
          "height": 204
        }
      },
      "source": [
        "recommend()"
      ],
      "execution_count": 0,
      "outputs": [
        {
          "output_type": "stream",
          "text": [
            "Enter movie title: Harry Potter and the Half-Blood Prince\n",
            "Recommendations:\n",
            "Oz: The Great and Powerful\n",
            "Osama\n",
            "Romeo + Juliet\n",
            "Mighty Aphrodite\n",
            "Nutty Professor II: The Klumps\n",
            "Love and Death\n",
            "A Fish Called Wanda\n",
            "Edward Scissorhands\n",
            "The Rules of the Game\n"
          ],
          "name": "stdout"
        }
      ]
    },
    {
      "cell_type": "code",
      "metadata": {
        "id": "U1lbnjSQ2wJL",
        "colab_type": "code",
        "outputId": "4d8d1b60-656b-441f-a0ec-da3312197562",
        "colab": {
          "base_uri": "https://localhost:8080/",
          "height": 204
        }
      },
      "source": [
        "recommend()"
      ],
      "execution_count": 0,
      "outputs": [
        {
          "output_type": "stream",
          "text": [
            "Enter movie title: Jumanji\n",
            "Recommendations:\n",
            "The Spy Next Door\n",
            "The Pagemaster\n",
            "Sleeping Beauty\n",
            "Ghost World\n",
            "The Girl Next Door\n",
            "Manhattan Murder Mystery\n",
            "Bulworth\n",
            "The Fan\n",
            "Fatal Attraction\n"
          ],
          "name": "stdout"
        }
      ]
    },
    {
      "cell_type": "markdown",
      "metadata": {
        "id": "70WxPiHx9p23",
        "colab_type": "text"
      },
      "source": [
        "#### Now we have a recommendation system that determines similar movies to a movie someone liked. We will now build a recommendation system for finding new movies based on a user who rated other movies"
      ]
    },
    {
      "cell_type": "code",
      "metadata": {
        "id": "u8DAXnW73Fh4",
        "colab_type": "code",
        "colab": {}
      },
      "source": [
        ""
      ],
      "execution_count": 0,
      "outputs": []
    }
  ]
}